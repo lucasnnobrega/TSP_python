{
 "cells": [
  {
   "cell_type": "code",
   "execution_count": 2,
   "metadata": {},
   "outputs": [],
   "source": [
    "a = [i for i in range(12)]"
   ]
  },
  {
   "cell_type": "code",
   "execution_count": 3,
   "metadata": {},
   "outputs": [
    {
     "data": {
      "text/plain": [
       "[0, 1, 2, 3, 4, 5, 6, 7, 8, 9, 10, 11]"
      ]
     },
     "execution_count": 3,
     "metadata": {},
     "output_type": "execute_result"
    }
   ],
   "source": [
    "a"
   ]
  },
  {
   "cell_type": "code",
   "execution_count": 4,
   "metadata": {},
   "outputs": [],
   "source": [
    "a[4:7] = reversed(a[4:7])"
   ]
  },
  {
   "cell_type": "code",
   "execution_count": 5,
   "metadata": {},
   "outputs": [
    {
     "data": {
      "text/plain": [
       "[0, 1, 2, 3, 6, 5, 4, 7, 8, 9, 10, 11]"
      ]
     },
     "execution_count": 5,
     "metadata": {},
     "output_type": "execute_result"
    }
   ],
   "source": [
    "a"
   ]
  },
  {
   "cell_type": "code",
   "execution_count": 6,
   "metadata": {},
   "outputs": [],
   "source": [
    "a[4:7] = reversed(a[4:7])"
   ]
  },
  {
   "cell_type": "code",
   "execution_count": 7,
   "metadata": {},
   "outputs": [
    {
     "data": {
      "text/plain": [
       "[0, 1, 2, 3, 4, 5, 6, 7, 8, 9, 10, 11]"
      ]
     },
     "execution_count": 7,
     "metadata": {},
     "output_type": "execute_result"
    }
   ],
   "source": [
    "a"
   ]
  },
  {
   "cell_type": "code",
   "execution_count": 9,
   "metadata": {},
   "outputs": [],
   "source": [
    "b = [[i-12, 12-i, i] for i in range(12)]"
   ]
  },
  {
   "cell_type": "code",
   "execution_count": 10,
   "metadata": {},
   "outputs": [
    {
     "data": {
      "text/plain": [
       "[[-12, 12, 0],\n",
       " [-11, 11, 1],\n",
       " [-10, 10, 2],\n",
       " [-9, 9, 3],\n",
       " [-8, 8, 4],\n",
       " [-7, 7, 5],\n",
       " [-6, 6, 6],\n",
       " [-5, 5, 7],\n",
       " [-4, 4, 8],\n",
       " [-3, 3, 9],\n",
       " [-2, 2, 10],\n",
       " [-1, 1, 11]]"
      ]
     },
     "execution_count": 10,
     "metadata": {},
     "output_type": "execute_result"
    }
   ],
   "source": [
    "b"
   ]
  },
  {
   "cell_type": "code",
   "execution_count": 14,
   "metadata": {},
   "outputs": [],
   "source": [
    "b.sort()"
   ]
  },
  {
   "cell_type": "code",
   "execution_count": 16,
   "metadata": {},
   "outputs": [],
   "source": [
    "b.sort(key=lambda x: x[1])"
   ]
  },
  {
   "cell_type": "code",
   "execution_count": 17,
   "metadata": {},
   "outputs": [
    {
     "data": {
      "text/plain": [
       "[[-1, 1, 11],\n",
       " [-2, 2, 10],\n",
       " [-3, 3, 9],\n",
       " [-4, 4, 8],\n",
       " [-5, 5, 7],\n",
       " [-6, 6, 6],\n",
       " [-7, 7, 5],\n",
       " [-8, 8, 4],\n",
       " [-9, 9, 3],\n",
       " [-10, 10, 2],\n",
       " [-11, 11, 1],\n",
       " [-12, 12, 0]]"
      ]
     },
     "execution_count": 17,
     "metadata": {},
     "output_type": "execute_result"
    }
   ],
   "source": [
    "b"
   ]
  },
  {
   "cell_type": "code",
   "execution_count": 18,
   "metadata": {},
   "outputs": [],
   "source": [
    "b.sort(key=lambda x: x[2])"
   ]
  },
  {
   "cell_type": "code",
   "execution_count": 19,
   "metadata": {},
   "outputs": [
    {
     "data": {
      "text/plain": [
       "[[-12, 12, 0],\n",
       " [-11, 11, 1],\n",
       " [-10, 10, 2],\n",
       " [-9, 9, 3],\n",
       " [-8, 8, 4],\n",
       " [-7, 7, 5],\n",
       " [-6, 6, 6],\n",
       " [-5, 5, 7],\n",
       " [-4, 4, 8],\n",
       " [-3, 3, 9],\n",
       " [-2, 2, 10],\n",
       " [-1, 1, 11]]"
      ]
     },
     "execution_count": 19,
     "metadata": {},
     "output_type": "execute_result"
    }
   ],
   "source": [
    "b"
   ]
  },
  {
   "cell_type": "code",
   "execution_count": 20,
   "metadata": {},
   "outputs": [
    {
     "data": {
      "text/plain": [
       "[[-12, 12, 0],\n",
       " [-11, 11, 1],\n",
       " [-10, 10, 2],\n",
       " [-9, 9, 3],\n",
       " [-8, 8, 4],\n",
       " [-7, 7, 5],\n",
       " [-6, 6, 6],\n",
       " [-5, 5, 7],\n",
       " [-4, 4, 8],\n",
       " [-3, 3, 9],\n",
       " [-2, 2, 10],\n",
       " [-1, 1, 11]]"
      ]
     },
     "execution_count": 20,
     "metadata": {},
     "output_type": "execute_result"
    }
   ],
   "source": [
    "b.sort(key=lambda x: x[0])\n",
    "b"
   ]
  },
  {
   "cell_type": "code",
   "execution_count": 21,
   "metadata": {},
   "outputs": [
    {
     "name": "stdout",
     "output_type": "stream",
     "text": [
      "12\n",
      "12\n",
      "12\n",
      "12\n",
      "12\n",
      "12\n",
      "12\n",
      "12\n",
      "12\n",
      "12\n",
      "12\n",
      "12\n"
     ]
    }
   ],
   "source": [
    "for i in range(12):\n",
    "    c = a.pop\n",
    "    print(len(a))"
   ]
  },
  {
   "cell_type": "code",
   "execution_count": 22,
   "metadata": {},
   "outputs": [],
   "source": [
    "import random"
   ]
  },
  {
   "cell_type": "code",
   "execution_count": 56,
   "metadata": {},
   "outputs": [
    {
     "data": {
      "text/plain": [
       "(0, 3)"
      ]
     },
     "execution_count": 56,
     "metadata": {},
     "output_type": "execute_result"
    }
   ],
   "source": [
    "lista_candidatos_restrita = a\n",
    "alfa = 0.25\n",
    "random.randrange(0, int(alfa*len(lista_candidatos_restrita))), int(alfa*len(lista_candidatos_restrita))"
   ]
  },
  {
   "cell_type": "code",
   "execution_count": 57,
   "metadata": {},
   "outputs": [],
   "source": [
    "import numpy as np"
   ]
  },
  {
   "cell_type": "code",
   "execution_count": 59,
   "metadata": {},
   "outputs": [],
   "source": [
    "C = np.delete(b, 1, 1)  # delete second column of C"
   ]
  },
  {
   "cell_type": "code",
   "execution_count": 60,
   "metadata": {},
   "outputs": [
    {
     "data": {
      "text/plain": [
       "array([[-12,   0],\n",
       "       [-11,   1],\n",
       "       [-10,   2],\n",
       "       [ -9,   3],\n",
       "       [ -8,   4],\n",
       "       [ -7,   5],\n",
       "       [ -6,   6],\n",
       "       [ -5,   7],\n",
       "       [ -4,   8],\n",
       "       [ -3,   9],\n",
       "       [ -2,  10],\n",
       "       [ -1,  11]])"
      ]
     },
     "execution_count": 60,
     "metadata": {},
     "output_type": "execute_result"
    }
   ],
   "source": [
    "C"
   ]
  },
  {
   "cell_type": "code",
   "execution_count": 61,
   "metadata": {},
   "outputs": [
    {
     "data": {
      "text/plain": [
       "[[-12, 12, 0],\n",
       " [-11, 11, 1],\n",
       " [-10, 10, 2],\n",
       " [-9, 9, 3],\n",
       " [-8, 8, 4],\n",
       " [-7, 7, 5],\n",
       " [-6, 6, 6],\n",
       " [-5, 5, 7],\n",
       " [-4, 4, 8],\n",
       " [-3, 3, 9],\n",
       " [-2, 2, 10],\n",
       " [-1, 1, 11]]"
      ]
     },
     "execution_count": 61,
     "metadata": {},
     "output_type": "execute_result"
    }
   ],
   "source": [
    "b"
   ]
  },
  {
   "cell_type": "code",
   "execution_count": null,
   "metadata": {},
   "outputs": [],
   "source": []
  }
 ],
 "metadata": {
  "kernelspec": {
   "display_name": "Python 3",
   "language": "python",
   "name": "python3"
  },
  "language_info": {
   "codemirror_mode": {
    "name": "ipython",
    "version": 3
   },
   "file_extension": ".py",
   "mimetype": "text/x-python",
   "name": "python",
   "nbconvert_exporter": "python",
   "pygments_lexer": "ipython3",
   "version": "3.6.6"
  }
 },
 "nbformat": 4,
 "nbformat_minor": 2
}
