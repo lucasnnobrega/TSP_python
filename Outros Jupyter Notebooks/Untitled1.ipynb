{
 "cells": [
  {
   "cell_type": "code",
   "execution_count": 1,
   "metadata": {},
   "outputs": [
    {
     "name": "stdout",
     "output_type": "stream",
     "text": [
      "[(0, 12), (1, 11), (2, 10), (3, 9), (4, 8), (5, 7), (6, 6), (7, 5), (8, 4), (9, 3)] \n",
      "\n",
      "\n"
     ]
    },
    {
     "ename": "NameError",
     "evalue": "name 'distancia_percurso' is not defined",
     "output_type": "error",
     "traceback": [
      "\u001b[0;31m---------------------------------------------------------------------------\u001b[0m",
      "\u001b[0;31mNameError\u001b[0m                                 Traceback (most recent call last)",
      "\u001b[0;32m<ipython-input-1-f42495dec254>\u001b[0m in \u001b[0;36m<module>\u001b[0;34m\u001b[0m\n\u001b[1;32m      4\u001b[0m \u001b[0;34m\u001b[0m\u001b[0m\n\u001b[1;32m      5\u001b[0m \u001b[0mprint\u001b[0m\u001b[0;34m(\u001b[0m\u001b[0mlista\u001b[0m\u001b[0;34m,\u001b[0m \u001b[0;34m\"\\n\\n\"\u001b[0m\u001b[0;34m)\u001b[0m\u001b[0;34m\u001b[0m\u001b[0m\n\u001b[0;32m----> 6\u001b[0;31m \u001b[0mmelhor_ate_agora\u001b[0m \u001b[0;34m=\u001b[0m \u001b[0mdistancia_percurso\u001b[0m\u001b[0;34m(\u001b[0m\u001b[0mlista\u001b[0m\u001b[0;34m)\u001b[0m\u001b[0;34m\u001b[0m\u001b[0m\n\u001b[0m\u001b[1;32m      7\u001b[0m \u001b[0mprint\u001b[0m\u001b[0;34m(\u001b[0m\u001b[0mmelhor_ate_agora\u001b[0m\u001b[0;34m)\u001b[0m\u001b[0;34m\u001b[0m\u001b[0m\n\u001b[1;32m      8\u001b[0m \u001b[0;34m\u001b[0m\u001b[0m\n",
      "\u001b[0;31mNameError\u001b[0m: name 'distancia_percurso' is not defined"
     ]
    }
   ],
   "source": [
    "#lista = list(pontos)\n",
    "\n",
    "lista = [(i, 12-i) for i in range(10)]\n",
    "\n",
    "print(lista, \"\\n\\n\")\n",
    "melhor_ate_agora = distancia_percurso(lista)\n",
    "print(melhor_ate_agora)\n",
    "\n",
    "for i in range(len(lista)):\n",
    "    print(\"\\n\\ni == \", i)\n",
    "    print(lista)\n",
    "    a = lista.pop(i)\n",
    "    print(a, \"cut\", lista)\n",
    "    print(\"Começando o 2º for\")\n",
    "    for j in range(len(lista)+1):\n",
    "        lista.insert(j,a)\n",
    "        nova_distancia = distancia_percurso(lista)\n",
    "        print(\"#\"*3, lista,\"SUM =>\", novo_melhor)\n",
    "        if nova_distancia < melhor_ate_agora:\n",
    "            nova_distancia = melhor_ate_agora\n",
    "        lista.pop(j)\n",
    "    lista.insert(i,a)"
   ]
  },
  {
   "cell_type": "code",
   "execution_count": null,
   "metadata": {},
   "outputs": [],
   "source": []
  }
 ],
 "metadata": {
  "kernelspec": {
   "display_name": "Python 3",
   "language": "python",
   "name": "python3"
  },
  "language_info": {
   "codemirror_mode": {
    "name": "ipython",
    "version": 3
   },
   "file_extension": ".py",
   "mimetype": "text/x-python",
   "name": "python",
   "nbconvert_exporter": "python",
   "pygments_lexer": "ipython3",
   "version": "3.6.6"
  }
 },
 "nbformat": 4,
 "nbformat_minor": 2
}
