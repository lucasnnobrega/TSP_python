{
 "cells": [
  {
   "cell_type": "markdown",
   "metadata": {},
   "source": [
    "# Segunda Entrega"
   ]
  },
  {
   "cell_type": "markdown",
   "metadata": {},
   "source": [
    "## Representação da solução\n",
    "\n",
    "Como a base está representada através de pontos que são os vértices e as arestas são as distâncias euclideanas para todos os pontos.\n",
    "Resumindo, todos os pontos estão \"conectados\" por uma aresta de peso igual a distância euclideana entre eles."
   ]
  },
  {
   "cell_type": "markdown",
   "metadata": {},
   "source": [
    "### Heuristicas Construtivas do PCV\n",
    "* Heuristica do vizinho mais próximo\n",
    "* Heuristica da inserção do mais próximo\n",
    "* Heuristica da inserção do mais distante"
   ]
  },
  {
   "cell_type": "code",
   "execution_count": 1,
   "metadata": {},
   "outputs": [],
   "source": [
    "%matplotlib inline\n",
    "import matplotlib.pyplot as plt\n",
    "\n",
    "import os\n",
    "\n",
    "from math import sqrt"
   ]
  },
  {
   "cell_type": "code",
   "execution_count": 2,
   "metadata": {},
   "outputs": [],
   "source": [
    "nome_de_instancias = os.listdir(\"./dataset/\")[:-1]"
   ]
  },
  {
   "cell_type": "code",
   "execution_count": 3,
   "metadata": {
    "scrolled": true
   },
   "outputs": [],
   "source": [
    "file_name = \"./dataset/\" + nome_de_instancias[12]\n",
    "with open(file_name, \"r\") as f:\n",
    "    text = f.read().split(\"\\n\")[6:-1]"
   ]
  },
  {
   "cell_type": "code",
   "execution_count": 4,
   "metadata": {},
   "outputs": [
    {
     "data": {
      "text/plain": [
       "('1 909444 143969', 1000)"
      ]
     },
     "execution_count": 4,
     "metadata": {},
     "output_type": "execute_result"
    }
   ],
   "source": [
    "text[0], len(text)"
   ]
  },
  {
   "cell_type": "code",
   "execution_count": 5,
   "metadata": {},
   "outputs": [],
   "source": [
    "coordenadas = []\n",
    "for vertice in text:\n",
    "    coordenadas.append(vertice.split(\" \"))"
   ]
  },
  {
   "cell_type": "code",
   "execution_count": 6,
   "metadata": {},
   "outputs": [
    {
     "data": {
      "text/plain": [
       "(['1', '909444', '143969'], 1000)"
      ]
     },
     "execution_count": 6,
     "metadata": {},
     "output_type": "execute_result"
    }
   ],
   "source": [
    "coordenadas[0], len(text)"
   ]
  },
  {
   "cell_type": "code",
   "execution_count": 7,
   "metadata": {},
   "outputs": [],
   "source": [
    "import numpy as np"
   ]
  },
  {
   "cell_type": "code",
   "execution_count": 8,
   "metadata": {},
   "outputs": [],
   "source": [
    "coordenadas_np = np.array(coordenadas).astype(\"int\")"
   ]
  },
  {
   "cell_type": "code",
   "execution_count": 9,
   "metadata": {},
   "outputs": [
    {
     "data": {
      "text/plain": [
       "(array([     1, 909444, 143969]), (1000, 3))"
      ]
     },
     "execution_count": 9,
     "metadata": {},
     "output_type": "execute_result"
    }
   ],
   "source": [
    "coordenadas_np[0], coordenadas_np.shape"
   ]
  },
  {
   "cell_type": "code",
   "execution_count": 90,
   "metadata": {},
   "outputs": [
    {
     "data": {
      "text/plain": [
       "([[909444, 143969],\n",
       "  [515900, 293384],\n",
       "  [749939, 228922],\n",
       "  [404862, 491857],\n",
       "  [286983, 437810]],\n",
       " 1000)"
      ]
     },
     "execution_count": 90,
     "metadata": {},
     "output_type": "execute_result"
    }
   ],
   "source": [
    "pontos = []\n",
    "for no_x_y in coordenadas_np:\n",
    "    pontos.append([no_x_y[1], no_x_y[2]])\n",
    "pontos[0:5], len(pontos)\n",
    "#pontos = pontos[0:10]\n",
    "pontos[0:5], len(pontos)"
   ]
  },
  {
   "cell_type": "markdown",
   "metadata": {},
   "source": [
    "# Arquivos com as instâncias aberto, agora criar  as funções"
   ]
  },
  {
   "cell_type": "markdown",
   "metadata": {},
   "source": [
    "# Cálculo das distâncias"
   ]
  },
  {
   "cell_type": "code",
   "execution_count": 91,
   "metadata": {},
   "outputs": [],
   "source": [
    "def dist(a, b):\n",
    "    return sqrt(pow(a[0] - b[0], 2) + pow(a[1] - b[1], 2))\n",
    "\n",
    "def distancia_percurso(points):\n",
    "    # Caso em que a lista é zero\n",
    "    if len(points) == 0:\n",
    "        return 0\n",
    "    \n",
    "    # Iniciando a distância com zero\n",
    "    distancia_percurso = 0\n",
    "    \n",
    "    # Soma todos os pontos\n",
    "    for i in range(len(points) - 1):\n",
    "        distancia_percurso += dist(points[i], points[i + 1])\n",
    "    \n",
    "    # Soma a distância do último ponto com o primeiro\n",
    "    distancia_percurso += dist(points[len(points)-1], points[0])\n",
    "    return distancia_percurso"
   ]
  },
  {
   "cell_type": "markdown",
   "metadata": {},
   "source": [
    "# Heuristica de Construção"
   ]
  },
  {
   "cell_type": "code",
   "execution_count": 92,
   "metadata": {},
   "outputs": [],
   "source": [
    "def vizinhos_mais_proximos(array_points):\n",
    "    \n",
    "    points = list(array_points)\n",
    "    \n",
    "    if len(points) == 0:\n",
    "        return []\n",
    "    \n",
    "    # Escolhe o vértice inicial\n",
    "    current = points[0]\n",
    "    # Armazena em um array, que terá o caminho criado pelo nnpoints\n",
    "    nnpoints = [current]\n",
    "    # Remove do conjuto total\n",
    "    points.remove(current)\n",
    "    # Repete até que o conjunto inicial acabe\n",
    "    while len(points) > 0:\n",
    "        next = points[0]\n",
    "        # Escolhe um vértice u mais próximo de um dos extremos de C\n",
    "        for point in points:\n",
    "            if dist(current, point) < dist(current, next):\n",
    "                next = point\n",
    "        # Acrescenta o vértice no array\n",
    "        nnpoints.append(next)\n",
    "        # Remove do conjunto\n",
    "        points.remove(next)\n",
    "        # considera que o novo nó a ser utilizado será o do final\n",
    "        current = next\n",
    "        # Numeros faltantes de pontos\n",
    "        print(\"Len points\", len(points), end=\"\\r\")\n",
    "    return nnpoints, distancia_percurso(nnpoints)"
   ]
  },
  {
   "cell_type": "markdown",
   "metadata": {},
   "source": [
    "# Movimento de Vizinhança"
   ]
  },
  {
   "cell_type": "code",
   "execution_count": 93,
   "metadata": {},
   "outputs": [],
   "source": [
    "def two_opt(array_points):\n",
    "    points = list(array_points)\n",
    "    \n",
    "    melhor_ate_agora = points\n",
    "    for i in range(len(points) - 1):\n",
    "        for j in range(i + 2, len(points) - 1):\n",
    "            # Verifica se a troca de 2 arestas é vantajosa, se sim, troque pela menor\n",
    "            if dist(points[i], points[i+1]) + dist(points[j], points[j+1]) > dist(points[i], points[j]) + dist(points[i+1], points[j+1]):          \n",
    "                # SWAP \n",
    "                points[i+1:j+1] = reversed(points[i+1:j+1])\n",
    "                if distancia_percurso(points) < distancia_percurso(melhor_ate_agora) :\n",
    "                    melhor_ate_agora = points\n",
    "                else:\n",
    "                    # RESWAP pois não é o melhor até agora\n",
    "                    points[i+1:j+1] = reversed(points[i+1:j+1])\n",
    "\n",
    "                    \n",
    "    return melhor_ate_agora, distancia_percurso(melhor_ate_agora)"
   ]
  },
  {
   "cell_type": "markdown",
   "metadata": {},
   "source": [
    "# Insertion\n",
    "\n",
    "Escolhe um vértice, testa todas as posições em um array e retorna o primeiro array que foi melhor que o original.\n",
    "\n",
    "First Improvement"
   ]
  },
  {
   "cell_type": "code",
   "execution_count": 94,
   "metadata": {},
   "outputs": [],
   "source": [
    "\n",
    "def insertion(array_lista):\n",
    "    if len(array_lista) < 10:\n",
    "        raise ValueError(\"Lista vazia\")\n",
    "        \n",
    "    lista = list(array_lista)\n",
    "    melhor_ate_agora = distancia_percurso(lista)\n",
    "    print(melhor_ate_agora)\n",
    "    \n",
    "    for i in range(len(lista)):\n",
    "        a = lista.pop(i)\n",
    "        #print(i,len(lista)) #end='\\r')\n",
    "        for j in range(len(lista)-1):\n",
    "            lista.insert(j, a)\n",
    "            nova_distancia = distancia_percurso(lista)\n",
    "            #print(\"len\", len(lista))\n",
    "            if nova_distancia < melhor_ate_agora:\n",
    "                melhor_ate_agora = nova_distancia\n",
    "                #print(melhor_ate_agora)\n",
    "                return lista\n",
    "            else:\n",
    "                # Removendo, já que não possui distância menor\n",
    "                #pass\n",
    "                lista.pop(j)\n",
    "        lista.insert(i,a)\n",
    "    return lista"
   ]
  },
  {
   "cell_type": "markdown",
   "metadata": {},
   "source": [
    "def insertion(array_lista):\n",
    "    if len(array_lista) < 10:\n",
    "        raise ValueError(\"Lista vazia\")\n",
    "        \n",
    "    lista = list(array_lista)\n",
    "    melhor_ate_agora = distancia_percurso(lista)\n",
    "    print(melhor_ate_agora)\n",
    "    \n",
    "    for i in range(len(lista)):\n",
    "        a = lista.pop(i)\n",
    "        #print(i,len(lista)) #end='\\r')\n",
    "        for j in range(len(lista)+1):\n",
    "            lista.insert(j, a)\n",
    "            nova_distancia = distancia_percurso(lista)\n",
    "            print(\"len\", len(lista))\n",
    "            if nova_distancia < melhor_ate_agora:\n",
    "                melhor_ate_agora = nova_distancia\n",
    "                #print(melhor_ate_agora)\n",
    "                return lista\n",
    "            else:\n",
    "                # Removendo, já que não possui distância menor\n",
    "                #pass\n",
    "                lista.pop(j)\n",
    "        lista.insert(i,a)"
   ]
  },
  {
   "cell_type": "code",
   "execution_count": 95,
   "metadata": {
    "scrolled": false
   },
   "outputs": [
    {
     "name": "stdout",
     "output_type": "stream",
     "text": [
      "[(0, 12), (1, 11), (2, 10), (3, 9), (4, 8), (5, 7), (6, 6), (7, 5), (8, 4), (9, 3)] \n",
      "\n",
      "\n",
      "25.455844122715714\n",
      "\n",
      "\n",
      "i ==  0\n",
      "[(0, 12), (1, 11), (2, 10), (3, 9), (4, 8), (5, 7), (6, 6), (7, 5), (8, 4), (9, 3)]\n",
      "(0, 12) cut [(1, 11), (2, 10), (3, 9), (4, 8), (5, 7), (6, 6), (7, 5), (8, 4), (9, 3)]\n",
      "Começando o 2º for\n",
      "### [(0, 12), (1, 11), (2, 10), (3, 9), (4, 8), (5, 7), (6, 6), (7, 5), (8, 4), (9, 3)] SUM => 25.455844122715714\n",
      "### [(1, 11), (0, 12), (2, 10), (3, 9), (4, 8), (5, 7), (6, 6), (7, 5), (8, 4), (9, 3)] SUM => 25.455844122715718\n",
      "### [(1, 11), (2, 10), (0, 12), (3, 9), (4, 8), (5, 7), (6, 6), (7, 5), (8, 4), (9, 3)] SUM => 28.28427124746191\n",
      "### [(1, 11), (2, 10), (3, 9), (0, 12), (4, 8), (5, 7), (6, 6), (7, 5), (8, 4), (9, 3)] SUM => 31.112698372208094\n",
      "### [(1, 11), (2, 10), (3, 9), (4, 8), (0, 12), (5, 7), (6, 6), (7, 5), (8, 4), (9, 3)] SUM => 33.941125496954285\n",
      "### [(1, 11), (2, 10), (3, 9), (4, 8), (5, 7), (0, 12), (6, 6), (7, 5), (8, 4), (9, 3)] SUM => 36.76955262170048\n",
      "### [(1, 11), (2, 10), (3, 9), (4, 8), (5, 7), (6, 6), (0, 12), (7, 5), (8, 4), (9, 3)] SUM => 39.59797974644666\n",
      "### [(1, 11), (2, 10), (3, 9), (4, 8), (5, 7), (6, 6), (7, 5), (0, 12), (8, 4), (9, 3)] SUM => 42.42640687119285\n",
      "### [(1, 11), (2, 10), (3, 9), (4, 8), (5, 7), (6, 6), (7, 5), (8, 4), (0, 12), (9, 3)] SUM => 45.254833995939045\n",
      "### [(1, 11), (2, 10), (3, 9), (4, 8), (5, 7), (6, 6), (7, 5), (8, 4), (9, 3), (0, 12)] SUM => 25.455844122715714\n",
      "\n",
      "\n",
      "i ==  1\n",
      "[(0, 12), (1, 11), (2, 10), (3, 9), (4, 8), (5, 7), (6, 6), (7, 5), (8, 4), (9, 3)]\n",
      "(1, 11) cut [(0, 12), (2, 10), (3, 9), (4, 8), (5, 7), (6, 6), (7, 5), (8, 4), (9, 3)]\n",
      "Começando o 2º for\n",
      "### [(1, 11), (0, 12), (2, 10), (3, 9), (4, 8), (5, 7), (6, 6), (7, 5), (8, 4), (9, 3)] SUM => 25.455844122715718\n",
      "### [(0, 12), (1, 11), (2, 10), (3, 9), (4, 8), (5, 7), (6, 6), (7, 5), (8, 4), (9, 3)] SUM => 25.455844122715714\n",
      "### [(0, 12), (2, 10), (1, 11), (3, 9), (4, 8), (5, 7), (6, 6), (7, 5), (8, 4), (9, 3)] SUM => 28.284271247461906\n",
      "### [(0, 12), (2, 10), (3, 9), (1, 11), (4, 8), (5, 7), (6, 6), (7, 5), (8, 4), (9, 3)] SUM => 31.112698372208094\n",
      "### [(0, 12), (2, 10), (3, 9), (4, 8), (1, 11), (5, 7), (6, 6), (7, 5), (8, 4), (9, 3)] SUM => 33.941125496954285\n",
      "### [(0, 12), (2, 10), (3, 9), (4, 8), (5, 7), (1, 11), (6, 6), (7, 5), (8, 4), (9, 3)] SUM => 36.76955262170047\n",
      "### [(0, 12), (2, 10), (3, 9), (4, 8), (5, 7), (6, 6), (1, 11), (7, 5), (8, 4), (9, 3)] SUM => 39.59797974644667\n",
      "### [(0, 12), (2, 10), (3, 9), (4, 8), (5, 7), (6, 6), (7, 5), (1, 11), (8, 4), (9, 3)] SUM => 42.42640687119285\n",
      "### [(0, 12), (2, 10), (3, 9), (4, 8), (5, 7), (6, 6), (7, 5), (8, 4), (1, 11), (9, 3)] SUM => 45.25483399593904\n",
      "### [(0, 12), (2, 10), (3, 9), (4, 8), (5, 7), (6, 6), (7, 5), (8, 4), (9, 3), (1, 11)] SUM => 25.455844122715714\n",
      "\n",
      "\n",
      "i ==  2\n",
      "[(0, 12), (1, 11), (2, 10), (3, 9), (4, 8), (5, 7), (6, 6), (7, 5), (8, 4), (9, 3)]\n",
      "(2, 10) cut [(0, 12), (1, 11), (3, 9), (4, 8), (5, 7), (6, 6), (7, 5), (8, 4), (9, 3)]\n",
      "Começando o 2º for\n",
      "### [(2, 10), (0, 12), (1, 11), (3, 9), (4, 8), (5, 7), (6, 6), (7, 5), (8, 4), (9, 3)] SUM => 25.455844122715718\n",
      "### [(0, 12), (2, 10), (1, 11), (3, 9), (4, 8), (5, 7), (6, 6), (7, 5), (8, 4), (9, 3)] SUM => 28.284271247461906\n",
      "### [(0, 12), (1, 11), (2, 10), (3, 9), (4, 8), (5, 7), (6, 6), (7, 5), (8, 4), (9, 3)] SUM => 25.455844122715714\n",
      "### [(0, 12), (1, 11), (3, 9), (2, 10), (4, 8), (5, 7), (6, 6), (7, 5), (8, 4), (9, 3)] SUM => 28.284271247461906\n",
      "### [(0, 12), (1, 11), (3, 9), (4, 8), (2, 10), (5, 7), (6, 6), (7, 5), (8, 4), (9, 3)] SUM => 31.112698372208094\n",
      "### [(0, 12), (1, 11), (3, 9), (4, 8), (5, 7), (2, 10), (6, 6), (7, 5), (8, 4), (9, 3)] SUM => 33.941125496954285\n",
      "### [(0, 12), (1, 11), (3, 9), (4, 8), (5, 7), (6, 6), (2, 10), (7, 5), (8, 4), (9, 3)] SUM => 36.76955262170047\n",
      "### [(0, 12), (1, 11), (3, 9), (4, 8), (5, 7), (6, 6), (7, 5), (2, 10), (8, 4), (9, 3)] SUM => 39.59797974644666\n",
      "### [(0, 12), (1, 11), (3, 9), (4, 8), (5, 7), (6, 6), (7, 5), (8, 4), (2, 10), (9, 3)] SUM => 42.42640687119285\n",
      "### [(0, 12), (1, 11), (3, 9), (4, 8), (5, 7), (6, 6), (7, 5), (8, 4), (9, 3), (2, 10)] SUM => 25.455844122715718\n",
      "\n",
      "\n",
      "i ==  3\n",
      "[(0, 12), (1, 11), (2, 10), (3, 9), (4, 8), (5, 7), (6, 6), (7, 5), (8, 4), (9, 3)]\n",
      "(3, 9) cut [(0, 12), (1, 11), (2, 10), (4, 8), (5, 7), (6, 6), (7, 5), (8, 4), (9, 3)]\n",
      "Começando o 2º for\n",
      "### [(3, 9), (0, 12), (1, 11), (2, 10), (4, 8), (5, 7), (6, 6), (7, 5), (8, 4), (9, 3)] SUM => 25.45584412271571\n",
      "### [(0, 12), (3, 9), (1, 11), (2, 10), (4, 8), (5, 7), (6, 6), (7, 5), (8, 4), (9, 3)] SUM => 31.112698372208094\n",
      "### [(0, 12), (1, 11), (3, 9), (2, 10), (4, 8), (5, 7), (6, 6), (7, 5), (8, 4), (9, 3)] SUM => 28.284271247461906\n",
      "### [(0, 12), (1, 11), (2, 10), (3, 9), (4, 8), (5, 7), (6, 6), (7, 5), (8, 4), (9, 3)] SUM => 25.455844122715714\n",
      "### [(0, 12), (1, 11), (2, 10), (4, 8), (3, 9), (5, 7), (6, 6), (7, 5), (8, 4), (9, 3)] SUM => 28.284271247461902\n",
      "### [(0, 12), (1, 11), (2, 10), (4, 8), (5, 7), (3, 9), (6, 6), (7, 5), (8, 4), (9, 3)] SUM => 31.112698372208094\n",
      "### [(0, 12), (1, 11), (2, 10), (4, 8), (5, 7), (6, 6), (3, 9), (7, 5), (8, 4), (9, 3)] SUM => 33.941125496954285\n",
      "### [(0, 12), (1, 11), (2, 10), (4, 8), (5, 7), (6, 6), (7, 5), (3, 9), (8, 4), (9, 3)] SUM => 36.76955262170047\n",
      "### [(0, 12), (1, 11), (2, 10), (4, 8), (5, 7), (6, 6), (7, 5), (8, 4), (3, 9), (9, 3)] SUM => 39.59797974644667\n",
      "### [(0, 12), (1, 11), (2, 10), (4, 8), (5, 7), (6, 6), (7, 5), (8, 4), (9, 3), (3, 9)] SUM => 25.45584412271571\n",
      "\n",
      "\n",
      "i ==  4\n",
      "[(0, 12), (1, 11), (2, 10), (3, 9), (4, 8), (5, 7), (6, 6), (7, 5), (8, 4), (9, 3)]\n",
      "(4, 8) cut [(0, 12), (1, 11), (2, 10), (3, 9), (5, 7), (6, 6), (7, 5), (8, 4), (9, 3)]\n",
      "Começando o 2º for\n",
      "### [(4, 8), (0, 12), (1, 11), (2, 10), (3, 9), (5, 7), (6, 6), (7, 5), (8, 4), (9, 3)] SUM => 25.455844122715714\n",
      "### [(0, 12), (4, 8), (1, 11), (2, 10), (3, 9), (5, 7), (6, 6), (7, 5), (8, 4), (9, 3)] SUM => 33.941125496954285\n",
      "### [(0, 12), (1, 11), (4, 8), (2, 10), (3, 9), (5, 7), (6, 6), (7, 5), (8, 4), (9, 3)] SUM => 31.112698372208094\n",
      "### [(0, 12), (1, 11), (2, 10), (4, 8), (3, 9), (5, 7), (6, 6), (7, 5), (8, 4), (9, 3)] SUM => 28.284271247461902\n",
      "### [(0, 12), (1, 11), (2, 10), (3, 9), (4, 8), (5, 7), (6, 6), (7, 5), (8, 4), (9, 3)] SUM => 25.455844122715714\n",
      "### [(0, 12), (1, 11), (2, 10), (3, 9), (5, 7), (4, 8), (6, 6), (7, 5), (8, 4), (9, 3)] SUM => 28.284271247461902\n",
      "### [(0, 12), (1, 11), (2, 10), (3, 9), (5, 7), (6, 6), (4, 8), (7, 5), (8, 4), (9, 3)] SUM => 31.112698372208094\n",
      "### [(0, 12), (1, 11), (2, 10), (3, 9), (5, 7), (6, 6), (7, 5), (4, 8), (8, 4), (9, 3)] SUM => 33.941125496954285\n",
      "### [(0, 12), (1, 11), (2, 10), (3, 9), (5, 7), (6, 6), (7, 5), (8, 4), (4, 8), (9, 3)] SUM => 36.76955262170047\n",
      "### [(0, 12), (1, 11), (2, 10), (3, 9), (5, 7), (6, 6), (7, 5), (8, 4), (9, 3), (4, 8)] SUM => 25.455844122715714\n",
      "\n",
      "\n",
      "i ==  5\n",
      "[(0, 12), (1, 11), (2, 10), (3, 9), (4, 8), (5, 7), (6, 6), (7, 5), (8, 4), (9, 3)]\n",
      "(5, 7) cut [(0, 12), (1, 11), (2, 10), (3, 9), (4, 8), (6, 6), (7, 5), (8, 4), (9, 3)]\n",
      "Começando o 2º for\n",
      "### [(5, 7), (0, 12), (1, 11), (2, 10), (3, 9), (4, 8), (6, 6), (7, 5), (8, 4), (9, 3)] SUM => 25.455844122715714\n",
      "### [(0, 12), (5, 7), (1, 11), (2, 10), (3, 9), (4, 8), (6, 6), (7, 5), (8, 4), (9, 3)] SUM => 36.76955262170048\n",
      "### [(0, 12), (1, 11), (5, 7), (2, 10), (3, 9), (4, 8), (6, 6), (7, 5), (8, 4), (9, 3)] SUM => 33.941125496954285\n",
      "### [(0, 12), (1, 11), (2, 10), (5, 7), (3, 9), (4, 8), (6, 6), (7, 5), (8, 4), (9, 3)] SUM => 31.112698372208094\n",
      "### [(0, 12), (1, 11), (2, 10), (3, 9), (5, 7), (4, 8), (6, 6), (7, 5), (8, 4), (9, 3)] SUM => 28.284271247461902\n",
      "### [(0, 12), (1, 11), (2, 10), (3, 9), (4, 8), (5, 7), (6, 6), (7, 5), (8, 4), (9, 3)] SUM => 25.455844122715714\n",
      "### [(0, 12), (1, 11), (2, 10), (3, 9), (4, 8), (6, 6), (5, 7), (7, 5), (8, 4), (9, 3)] SUM => 28.284271247461902\n",
      "### [(0, 12), (1, 11), (2, 10), (3, 9), (4, 8), (6, 6), (7, 5), (5, 7), (8, 4), (9, 3)] SUM => 31.112698372208094\n",
      "### [(0, 12), (1, 11), (2, 10), (3, 9), (4, 8), (6, 6), (7, 5), (8, 4), (5, 7), (9, 3)] SUM => 33.941125496954285\n",
      "### [(0, 12), (1, 11), (2, 10), (3, 9), (4, 8), (6, 6), (7, 5), (8, 4), (9, 3), (5, 7)] SUM => 25.455844122715714\n",
      "\n",
      "\n",
      "i ==  6\n",
      "[(0, 12), (1, 11), (2, 10), (3, 9), (4, 8), (5, 7), (6, 6), (7, 5), (8, 4), (9, 3)]\n",
      "(6, 6) cut [(0, 12), (1, 11), (2, 10), (3, 9), (4, 8), (5, 7), (7, 5), (8, 4), (9, 3)]\n",
      "Começando o 2º for\n",
      "### [(6, 6), (0, 12), (1, 11), (2, 10), (3, 9), (4, 8), (5, 7), (7, 5), (8, 4), (9, 3)] SUM => 25.455844122715714\n",
      "### [(0, 12), (6, 6), (1, 11), (2, 10), (3, 9), (4, 8), (5, 7), (7, 5), (8, 4), (9, 3)] SUM => 39.59797974644667\n",
      "### [(0, 12), (1, 11), (6, 6), (2, 10), (3, 9), (4, 8), (5, 7), (7, 5), (8, 4), (9, 3)] SUM => 36.76955262170048\n",
      "### [(0, 12), (1, 11), (2, 10), (6, 6), (3, 9), (4, 8), (5, 7), (7, 5), (8, 4), (9, 3)] SUM => 33.941125496954285\n",
      "### [(0, 12), (1, 11), (2, 10), (3, 9), (6, 6), (4, 8), (5, 7), (7, 5), (8, 4), (9, 3)] SUM => 31.112698372208094\n",
      "### [(0, 12), (1, 11), (2, 10), (3, 9), (4, 8), (6, 6), (5, 7), (7, 5), (8, 4), (9, 3)] SUM => 28.284271247461902\n",
      "### [(0, 12), (1, 11), (2, 10), (3, 9), (4, 8), (5, 7), (6, 6), (7, 5), (8, 4), (9, 3)] SUM => 25.455844122715714\n",
      "### [(0, 12), (1, 11), (2, 10), (3, 9), (4, 8), (5, 7), (7, 5), (6, 6), (8, 4), (9, 3)] SUM => 28.284271247461902\n",
      "### [(0, 12), (1, 11), (2, 10), (3, 9), (4, 8), (5, 7), (7, 5), (8, 4), (6, 6), (9, 3)] SUM => 31.11269837220809\n",
      "### [(0, 12), (1, 11), (2, 10), (3, 9), (4, 8), (5, 7), (7, 5), (8, 4), (9, 3), (6, 6)] SUM => 25.45584412271571\n",
      "\n",
      "\n",
      "i ==  7\n",
      "[(0, 12), (1, 11), (2, 10), (3, 9), (4, 8), (5, 7), (6, 6), (7, 5), (8, 4), (9, 3)]\n",
      "(7, 5) cut [(0, 12), (1, 11), (2, 10), (3, 9), (4, 8), (5, 7), (6, 6), (8, 4), (9, 3)]\n",
      "Começando o 2º for\n",
      "### [(7, 5), (0, 12), (1, 11), (2, 10), (3, 9), (4, 8), (5, 7), (6, 6), (8, 4), (9, 3)] SUM => 25.455844122715718\n",
      "### [(0, 12), (7, 5), (1, 11), (2, 10), (3, 9), (4, 8), (5, 7), (6, 6), (8, 4), (9, 3)] SUM => 42.42640687119285\n",
      "### [(0, 12), (1, 11), (7, 5), (2, 10), (3, 9), (4, 8), (5, 7), (6, 6), (8, 4), (9, 3)] SUM => 39.59797974644667\n",
      "### [(0, 12), (1, 11), (2, 10), (7, 5), (3, 9), (4, 8), (5, 7), (6, 6), (8, 4), (9, 3)] SUM => 36.76955262170048\n",
      "### [(0, 12), (1, 11), (2, 10), (3, 9), (7, 5), (4, 8), (5, 7), (6, 6), (8, 4), (9, 3)] SUM => 33.941125496954285\n",
      "### [(0, 12), (1, 11), (2, 10), (3, 9), (4, 8), (7, 5), (5, 7), (6, 6), (8, 4), (9, 3)] SUM => 31.112698372208094\n",
      "### [(0, 12), (1, 11), (2, 10), (3, 9), (4, 8), (5, 7), (7, 5), (6, 6), (8, 4), (9, 3)] SUM => 28.284271247461902\n",
      "### [(0, 12), (1, 11), (2, 10), (3, 9), (4, 8), (5, 7), (6, 6), (7, 5), (8, 4), (9, 3)] SUM => 25.455844122715714\n",
      "### [(0, 12), (1, 11), (2, 10), (3, 9), (4, 8), (5, 7), (6, 6), (8, 4), (7, 5), (9, 3)] SUM => 28.284271247461902\n",
      "### [(0, 12), (1, 11), (2, 10), (3, 9), (4, 8), (5, 7), (6, 6), (8, 4), (9, 3), (7, 5)] SUM => 25.45584412271571\n",
      "\n",
      "\n",
      "i ==  8\n",
      "[(0, 12), (1, 11), (2, 10), (3, 9), (4, 8), (5, 7), (6, 6), (7, 5), (8, 4), (9, 3)]\n",
      "(8, 4) cut [(0, 12), (1, 11), (2, 10), (3, 9), (4, 8), (5, 7), (6, 6), (7, 5), (9, 3)]\n",
      "Começando o 2º for\n",
      "### [(8, 4), (0, 12), (1, 11), (2, 10), (3, 9), (4, 8), (5, 7), (6, 6), (7, 5), (9, 3)] SUM => 25.455844122715718\n",
      "### [(0, 12), (8, 4), (1, 11), (2, 10), (3, 9), (4, 8), (5, 7), (6, 6), (7, 5), (9, 3)] SUM => 45.25483399593905\n",
      "### [(0, 12), (1, 11), (8, 4), (2, 10), (3, 9), (4, 8), (5, 7), (6, 6), (7, 5), (9, 3)] SUM => 42.42640687119285\n",
      "### [(0, 12), (1, 11), (2, 10), (8, 4), (3, 9), (4, 8), (5, 7), (6, 6), (7, 5), (9, 3)] SUM => 39.59797974644667\n",
      "### [(0, 12), (1, 11), (2, 10), (3, 9), (8, 4), (4, 8), (5, 7), (6, 6), (7, 5), (9, 3)] SUM => 36.76955262170048\n",
      "### [(0, 12), (1, 11), (2, 10), (3, 9), (4, 8), (8, 4), (5, 7), (6, 6), (7, 5), (9, 3)] SUM => 33.941125496954285\n",
      "### [(0, 12), (1, 11), (2, 10), (3, 9), (4, 8), (5, 7), (8, 4), (6, 6), (7, 5), (9, 3)] SUM => 31.11269837220809\n",
      "### [(0, 12), (1, 11), (2, 10), (3, 9), (4, 8), (5, 7), (6, 6), (8, 4), (7, 5), (9, 3)] SUM => 28.284271247461902\n",
      "### [(0, 12), (1, 11), (2, 10), (3, 9), (4, 8), (5, 7), (6, 6), (7, 5), (8, 4), (9, 3)] SUM => 25.455844122715714\n",
      "### [(0, 12), (1, 11), (2, 10), (3, 9), (4, 8), (5, 7), (6, 6), (7, 5), (9, 3), (8, 4)] SUM => 25.455844122715714\n",
      "\n",
      "\n",
      "i ==  9\n",
      "[(0, 12), (1, 11), (2, 10), (3, 9), (4, 8), (5, 7), (6, 6), (7, 5), (8, 4), (9, 3)]\n",
      "(9, 3) cut [(0, 12), (1, 11), (2, 10), (3, 9), (4, 8), (5, 7), (6, 6), (7, 5), (8, 4)]\n",
      "Começando o 2º for\n",
      "### [(9, 3), (0, 12), (1, 11), (2, 10), (3, 9), (4, 8), (5, 7), (6, 6), (7, 5), (8, 4)] SUM => 25.455844122715718\n",
      "### [(0, 12), (9, 3), (1, 11), (2, 10), (3, 9), (4, 8), (5, 7), (6, 6), (7, 5), (8, 4)] SUM => 45.254833995939045\n",
      "### [(0, 12), (1, 11), (9, 3), (2, 10), (3, 9), (4, 8), (5, 7), (6, 6), (7, 5), (8, 4)] SUM => 42.42640687119286\n",
      "### [(0, 12), (1, 11), (2, 10), (9, 3), (3, 9), (4, 8), (5, 7), (6, 6), (7, 5), (8, 4)] SUM => 39.59797974644667\n",
      "### [(0, 12), (1, 11), (2, 10), (3, 9), (9, 3), (4, 8), (5, 7), (6, 6), (7, 5), (8, 4)] SUM => 36.76955262170048\n",
      "### [(0, 12), (1, 11), (2, 10), (3, 9), (4, 8), (9, 3), (5, 7), (6, 6), (7, 5), (8, 4)] SUM => 33.941125496954285\n",
      "### [(0, 12), (1, 11), (2, 10), (3, 9), (4, 8), (5, 7), (9, 3), (6, 6), (7, 5), (8, 4)] SUM => 31.112698372208094\n",
      "### [(0, 12), (1, 11), (2, 10), (3, 9), (4, 8), (5, 7), (6, 6), (9, 3), (7, 5), (8, 4)] SUM => 28.284271247461902\n",
      "### [(0, 12), (1, 11), (2, 10), (3, 9), (4, 8), (5, 7), (6, 6), (7, 5), (9, 3), (8, 4)] SUM => 25.455844122715714\n",
      "### [(0, 12), (1, 11), (2, 10), (3, 9), (4, 8), (5, 7), (6, 6), (7, 5), (8, 4), (9, 3)] SUM => 25.455844122715714\n"
     ]
    }
   ],
   "source": [
    "#lista = list(pontos)\n",
    "\n",
    "lista = [(i, 12-i) for i in range(10)]\n",
    "\n",
    "print(lista, \"\\n\\n\")\n",
    "melhor_ate_agora = distancia_percurso(lista)\n",
    "print(melhor_ate_agora)\n",
    "\n",
    "for i in range(len(lista)):\n",
    "    print(\"\\n\\ni == \", i)\n",
    "    print(lista)\n",
    "    a = lista.pop(i)\n",
    "    print(a, \"cut\", lista)\n",
    "    print(\"Começando o 2º for\")\n",
    "    for j in range(len(lista)+1):\n",
    "        lista.insert(j,a)\n",
    "        novo_melhor = distancia_percurso(lista)\n",
    "        print(\"#\"*3, lista,\"SUM =>\", novo_melhor)\n",
    "        if novo_melhor < melhor_ate_agora:\n",
    "            novo_melhor = melhor_ate_agora\n",
    "        lista.pop(j)\n",
    "    lista.insert(i,a)\n"
   ]
  },
  {
   "cell_type": "markdown",
   "metadata": {},
   "source": [
    "# Processo de Criação"
   ]
  },
  {
   "cell_type": "code",
   "execution_count": 96,
   "metadata": {
    "scrolled": true
   },
   "outputs": [
    {
     "name": "stdout",
     "output_type": "stream",
     "text": [
      "Custo: 14161183.73435211\n"
     ]
    }
   ],
   "source": [
    "vmp_array, vmp_dist = vizinhos_mais_proximos(pontos)\n",
    "print(\"Custo:\", vmp_dist)"
   ]
  },
  {
   "cell_type": "markdown",
   "metadata": {},
   "source": [
    "Array criado, nome de `vmp_array`, e custo de `vmp_dist`"
   ]
  },
  {
   "cell_type": "markdown",
   "metadata": {},
   "source": [
    "## Benckmark com o Insertion"
   ]
  },
  {
   "cell_type": "code",
   "execution_count": 97,
   "metadata": {},
   "outputs": [
    {
     "name": "stdout",
     "output_type": "stream",
     "text": [
      "14161183.73435211\n",
      "CPU times: user 75.1 ms, sys: 0 ns, total: 75.1 ms\n",
      "Wall time: 73.9 ms\n"
     ]
    }
   ],
   "source": [
    "%time insertion_array = insertion(vmp_array)"
   ]
  },
  {
   "cell_type": "markdown",
   "metadata": {},
   "source": [
    "## Benckmark com o 2-OPT"
   ]
  },
  {
   "cell_type": "code",
   "execution_count": 98,
   "metadata": {},
   "outputs": [
    {
     "name": "stdout",
     "output_type": "stream",
     "text": [
      "CPU times: user 2.2 s, sys: 1.84 ms, total: 2.2 s\n",
      "Wall time: 2.2 s\n"
     ]
    }
   ],
   "source": [
    "%time two_opt_array, two_opt_dist = two_opt(vmp_array)"
   ]
  },
  {
   "cell_type": "markdown",
   "metadata": {},
   "source": [
    "# VND (Variable Neighbourhood Descent)"
   ]
  },
  {
   "cell_type": "code",
   "execution_count": 99,
   "metadata": {},
   "outputs": [],
   "source": [
    "def VND(array_lista):\n",
    "    lista = list(array_lista)\n",
    "    \n",
    "    \n",
    "    melhor_ate_agora = distancia_percurso(lista)\n",
    "    print(\"Inicial:\", melhor_ate_agora)\n",
    "    while 1:\n",
    "        print(\"\\n## ## ##\\n\")\n",
    "        # Rodar 2-OPT, caso for bom, rodo de novo\n",
    "        lista_two_opt, two_opt_dist = two_opt(lista)\n",
    "        print(\"2-OPT: \", two_opt_dist, len(two_opt_array))\n",
    "        if two_opt_dist < melhor_ate_agora:\n",
    "            melhor_ate_agora = two_opt_dist\n",
    "            lista = lista_two_opt\n",
    "            continue\n",
    "        \n",
    "        # Se 2-OPT for ruim, rode o Insertion\n",
    "        insertion_array = insertion(lista)\n",
    "        \n",
    "        insertion_dist = distancia_percurso(insertion_array)\n",
    "        print(\"Insertion:\", insertion_dist, len(insertion_array))\n",
    "        # Caso o Insertion for bom, volte pro 2-OPT\n",
    "        if insertion_dist < melhor_ate_agora:\n",
    "            melhor_ate_agora = insertion_dist\n",
    "            lista = insertion_array\n",
    "            continue\n",
    "        # Caso o Insertion e o 2-OPT for ruim, pare\n",
    "        print(\"Insertion e 2-OPT sem sucesso\")\n",
    "        break\n",
    "    return lista"
   ]
  },
  {
   "cell_type": "code",
   "execution_count": 100,
   "metadata": {
    "scrolled": false
   },
   "outputs": [
    {
     "name": "stdout",
     "output_type": "stream",
     "text": [
      "Inicial: 14161183.73435211\n",
      "\n",
      "## ## ##\n",
      "\n",
      "2-OPT:  14161183.73435211 1000\n",
      "14161183.73435211\n",
      "Insertion: 14159882.199824994 1000\n",
      "\n",
      "## ## ##\n",
      "\n",
      "2-OPT:  14159882.199824994 1000\n",
      "14159882.199824994\n",
      "Insertion: 14156918.919272773 1000\n",
      "\n",
      "## ## ##\n",
      "\n",
      "2-OPT:  14156918.919272773 1000\n",
      "14156918.919272773\n",
      "Insertion: 14155171.682563271 1000\n",
      "\n",
      "## ## ##\n",
      "\n",
      "2-OPT:  14155171.682563271 1000\n",
      "14155171.682563271\n",
      "Insertion: 14145422.689365383 1000\n",
      "\n",
      "## ## ##\n",
      "\n",
      "2-OPT:  14145422.689365383 1000\n",
      "14145422.689365383\n",
      "Insertion: 14140450.845797444 1000\n",
      "\n",
      "## ## ##\n",
      "\n",
      "2-OPT:  14140450.845797444 1000\n",
      "14140450.845797444\n",
      "Insertion: 14139895.171183813 1000\n",
      "\n",
      "## ## ##\n",
      "\n",
      "2-OPT:  14139895.171183813 1000\n",
      "14139895.171183813\n",
      "Insertion: 14139868.233025782 1000\n",
      "\n",
      "## ## ##\n",
      "\n",
      "2-OPT:  14139868.233025782 1000\n",
      "14139868.233025782\n",
      "Insertion: 14136070.185007665 1000\n",
      "\n",
      "## ## ##\n",
      "\n",
      "2-OPT:  14136070.185007665 1000\n",
      "14136070.185007665\n",
      "Insertion: 14133445.323522504 1000\n",
      "\n",
      "## ## ##\n",
      "\n",
      "2-OPT:  14133445.323522504 1000\n",
      "14133445.323522504\n",
      "Insertion: 14133130.502255367 1000\n",
      "\n",
      "## ## ##\n",
      "\n",
      "2-OPT:  14133130.502255367 1000\n",
      "14133130.502255367\n",
      "Insertion: 14126860.097178617 1000\n",
      "\n",
      "## ## ##\n",
      "\n",
      "2-OPT:  14126860.097178617 1000\n",
      "14126860.097178617\n",
      "Insertion: 14126855.962354992 1000\n",
      "\n",
      "## ## ##\n",
      "\n",
      "2-OPT:  14126855.962354992 1000\n",
      "14126855.962354992\n",
      "Insertion: 14126358.199384928 1000\n",
      "\n",
      "## ## ##\n",
      "\n",
      "2-OPT:  14126358.199384928 1000\n",
      "14126358.199384928\n",
      "Insertion: 14114078.148863096 1000\n",
      "\n",
      "## ## ##\n",
      "\n",
      "2-OPT:  14114078.148863096 1000\n",
      "14114078.148863096\n",
      "Insertion: 14101030.034789667 1000\n",
      "\n",
      "## ## ##\n",
      "\n",
      "2-OPT:  14101030.034789667 1000\n",
      "14101030.034789667\n",
      "Insertion: 14083174.238663964 1000\n",
      "\n",
      "## ## ##\n",
      "\n",
      "2-OPT:  14083174.238663964 1000\n",
      "14083174.238663964\n",
      "Insertion: 14077722.833519612 1000\n",
      "\n",
      "## ## ##\n",
      "\n",
      "2-OPT:  14077722.833519612 1000\n",
      "14077722.833519612\n",
      "Insertion: 14077231.278390795 1000\n",
      "\n",
      "## ## ##\n",
      "\n",
      "2-OPT:  14077231.278390795 1000\n",
      "14077231.278390795\n",
      "Insertion: 14073493.162673216 1000\n",
      "\n",
      "## ## ##\n",
      "\n",
      "2-OPT:  14073493.162673216 1000\n",
      "14073493.162673216\n",
      "Insertion: 14072838.672785033 1000\n",
      "\n",
      "## ## ##\n",
      "\n",
      "2-OPT:  14072838.672785033 1000\n",
      "14072838.672785033\n",
      "Insertion: 14072351.06346548 1000\n",
      "\n",
      "## ## ##\n",
      "\n",
      "2-OPT:  14072351.06346548 1000\n",
      "14072351.06346548\n",
      "Insertion: 14069474.558764823 1000\n",
      "\n",
      "## ## ##\n",
      "\n",
      "2-OPT:  14069474.558764823 1000\n",
      "14069474.558764823\n",
      "Insertion: 14067053.895241648 1000\n",
      "\n",
      "## ## ##\n",
      "\n",
      "2-OPT:  14067053.895241648 1000\n",
      "14067053.895241648\n",
      "Insertion: 14066963.496102035 1000\n",
      "\n",
      "## ## ##\n",
      "\n",
      "2-OPT:  14066963.496102035 1000\n",
      "14066963.496102035\n",
      "Insertion: 14066122.965691976 1000\n",
      "\n",
      "## ## ##\n",
      "\n",
      "2-OPT:  14066122.965691976 1000\n",
      "14066122.965691976\n"
     ]
    },
    {
     "ename": "KeyboardInterrupt",
     "evalue": "",
     "output_type": "error",
     "traceback": [
      "\u001b[0;31m---------------------------------------------------------------------------\u001b[0m",
      "\u001b[0;31mKeyboardInterrupt\u001b[0m                         Traceback (most recent call last)",
      "\u001b[0;32m<ipython-input-100-516f23b2f8aa>\u001b[0m in \u001b[0;36m<module>\u001b[0;34m\u001b[0m\n\u001b[0;32m----> 1\u001b[0;31m \u001b[0mresultado_vnd\u001b[0m \u001b[0;34m=\u001b[0m \u001b[0mVND\u001b[0m\u001b[0;34m(\u001b[0m\u001b[0mvmp_array\u001b[0m\u001b[0;34m)\u001b[0m\u001b[0;34m\u001b[0m\u001b[0m\n\u001b[0m",
      "\u001b[0;32m<ipython-input-99-0474ae1e0da2>\u001b[0m in \u001b[0;36mVND\u001b[0;34m(array_lista)\u001b[0m\n\u001b[1;32m     16\u001b[0m \u001b[0;34m\u001b[0m\u001b[0m\n\u001b[1;32m     17\u001b[0m         \u001b[0;31m# Se 2-OPT for ruim, rode o Insertion\u001b[0m\u001b[0;34m\u001b[0m\u001b[0;34m\u001b[0m\u001b[0m\n\u001b[0;32m---> 18\u001b[0;31m         \u001b[0minsertion_array\u001b[0m \u001b[0;34m=\u001b[0m \u001b[0minsertion\u001b[0m\u001b[0;34m(\u001b[0m\u001b[0mlista\u001b[0m\u001b[0;34m)\u001b[0m\u001b[0;34m\u001b[0m\u001b[0m\n\u001b[0m\u001b[1;32m     19\u001b[0m \u001b[0;34m\u001b[0m\u001b[0m\n\u001b[1;32m     20\u001b[0m         \u001b[0minsertion_dist\u001b[0m \u001b[0;34m=\u001b[0m \u001b[0mdistancia_percurso\u001b[0m\u001b[0;34m(\u001b[0m\u001b[0minsertion_array\u001b[0m\u001b[0;34m)\u001b[0m\u001b[0;34m\u001b[0m\u001b[0m\n",
      "\u001b[0;32m<ipython-input-94-7737aaf39326>\u001b[0m in \u001b[0;36minsertion\u001b[0;34m(array_lista)\u001b[0m\n\u001b[1;32m     13\u001b[0m         \u001b[0;32mfor\u001b[0m \u001b[0mj\u001b[0m \u001b[0;32min\u001b[0m \u001b[0mrange\u001b[0m\u001b[0;34m(\u001b[0m\u001b[0mlen\u001b[0m\u001b[0;34m(\u001b[0m\u001b[0mlista\u001b[0m\u001b[0;34m)\u001b[0m\u001b[0;34m-\u001b[0m\u001b[0;36m1\u001b[0m\u001b[0;34m)\u001b[0m\u001b[0;34m:\u001b[0m\u001b[0;34m\u001b[0m\u001b[0m\n\u001b[1;32m     14\u001b[0m             \u001b[0mlista\u001b[0m\u001b[0;34m.\u001b[0m\u001b[0minsert\u001b[0m\u001b[0;34m(\u001b[0m\u001b[0mj\u001b[0m\u001b[0;34m,\u001b[0m \u001b[0ma\u001b[0m\u001b[0;34m)\u001b[0m\u001b[0;34m\u001b[0m\u001b[0m\n\u001b[0;32m---> 15\u001b[0;31m             \u001b[0mnova_distancia\u001b[0m \u001b[0;34m=\u001b[0m \u001b[0mdistancia_percurso\u001b[0m\u001b[0;34m(\u001b[0m\u001b[0mlista\u001b[0m\u001b[0;34m)\u001b[0m\u001b[0;34m\u001b[0m\u001b[0m\n\u001b[0m\u001b[1;32m     16\u001b[0m             \u001b[0;31m#print(\"len\", len(lista))\u001b[0m\u001b[0;34m\u001b[0m\u001b[0;34m\u001b[0m\u001b[0m\n\u001b[1;32m     17\u001b[0m             \u001b[0;32mif\u001b[0m \u001b[0mnova_distancia\u001b[0m \u001b[0;34m<\u001b[0m \u001b[0mmelhor_ate_agora\u001b[0m\u001b[0;34m:\u001b[0m\u001b[0;34m\u001b[0m\u001b[0m\n",
      "\u001b[0;32m<ipython-input-91-d8114f88ff47>\u001b[0m in \u001b[0;36mdistancia_percurso\u001b[0;34m(points)\u001b[0m\n\u001b[1;32m     12\u001b[0m     \u001b[0;31m# Soma todos os pontos\u001b[0m\u001b[0;34m\u001b[0m\u001b[0;34m\u001b[0m\u001b[0m\n\u001b[1;32m     13\u001b[0m     \u001b[0;32mfor\u001b[0m \u001b[0mi\u001b[0m \u001b[0;32min\u001b[0m \u001b[0mrange\u001b[0m\u001b[0;34m(\u001b[0m\u001b[0mlen\u001b[0m\u001b[0;34m(\u001b[0m\u001b[0mpoints\u001b[0m\u001b[0;34m)\u001b[0m \u001b[0;34m-\u001b[0m \u001b[0;36m1\u001b[0m\u001b[0;34m)\u001b[0m\u001b[0;34m:\u001b[0m\u001b[0;34m\u001b[0m\u001b[0m\n\u001b[0;32m---> 14\u001b[0;31m         \u001b[0mdistancia_percurso\u001b[0m \u001b[0;34m+=\u001b[0m \u001b[0mdist\u001b[0m\u001b[0;34m(\u001b[0m\u001b[0mpoints\u001b[0m\u001b[0;34m[\u001b[0m\u001b[0mi\u001b[0m\u001b[0;34m]\u001b[0m\u001b[0;34m,\u001b[0m \u001b[0mpoints\u001b[0m\u001b[0;34m[\u001b[0m\u001b[0mi\u001b[0m \u001b[0;34m+\u001b[0m \u001b[0;36m1\u001b[0m\u001b[0;34m]\u001b[0m\u001b[0;34m)\u001b[0m\u001b[0;34m\u001b[0m\u001b[0m\n\u001b[0m\u001b[1;32m     15\u001b[0m \u001b[0;34m\u001b[0m\u001b[0m\n\u001b[1;32m     16\u001b[0m     \u001b[0;31m# Soma a distância do último ponto com o primeiro\u001b[0m\u001b[0;34m\u001b[0m\u001b[0;34m\u001b[0m\u001b[0m\n",
      "\u001b[0;32m<ipython-input-91-d8114f88ff47>\u001b[0m in \u001b[0;36mdist\u001b[0;34m(a, b)\u001b[0m\n\u001b[1;32m      1\u001b[0m \u001b[0;32mdef\u001b[0m \u001b[0mdist\u001b[0m\u001b[0;34m(\u001b[0m\u001b[0ma\u001b[0m\u001b[0;34m,\u001b[0m \u001b[0mb\u001b[0m\u001b[0;34m)\u001b[0m\u001b[0;34m:\u001b[0m\u001b[0;34m\u001b[0m\u001b[0m\n\u001b[0;32m----> 2\u001b[0;31m     \u001b[0;32mreturn\u001b[0m \u001b[0msqrt\u001b[0m\u001b[0;34m(\u001b[0m\u001b[0mpow\u001b[0m\u001b[0;34m(\u001b[0m\u001b[0ma\u001b[0m\u001b[0;34m[\u001b[0m\u001b[0;36m0\u001b[0m\u001b[0;34m]\u001b[0m \u001b[0;34m-\u001b[0m \u001b[0mb\u001b[0m\u001b[0;34m[\u001b[0m\u001b[0;36m0\u001b[0m\u001b[0;34m]\u001b[0m\u001b[0;34m,\u001b[0m \u001b[0;36m2\u001b[0m\u001b[0;34m)\u001b[0m \u001b[0;34m+\u001b[0m \u001b[0mpow\u001b[0m\u001b[0;34m(\u001b[0m\u001b[0ma\u001b[0m\u001b[0;34m[\u001b[0m\u001b[0;36m1\u001b[0m\u001b[0;34m]\u001b[0m \u001b[0;34m-\u001b[0m \u001b[0mb\u001b[0m\u001b[0;34m[\u001b[0m\u001b[0;36m1\u001b[0m\u001b[0;34m]\u001b[0m\u001b[0;34m,\u001b[0m \u001b[0;36m2\u001b[0m\u001b[0;34m)\u001b[0m\u001b[0;34m)\u001b[0m\u001b[0;34m\u001b[0m\u001b[0m\n\u001b[0m\u001b[1;32m      3\u001b[0m \u001b[0;34m\u001b[0m\u001b[0m\n\u001b[1;32m      4\u001b[0m \u001b[0;32mdef\u001b[0m \u001b[0mdistancia_percurso\u001b[0m\u001b[0;34m(\u001b[0m\u001b[0mpoints\u001b[0m\u001b[0;34m)\u001b[0m\u001b[0;34m:\u001b[0m\u001b[0;34m\u001b[0m\u001b[0m\n\u001b[1;32m      5\u001b[0m     \u001b[0;31m# Caso em que a lista é zero\u001b[0m\u001b[0;34m\u001b[0m\u001b[0;34m\u001b[0m\u001b[0m\n",
      "\u001b[0;31mKeyboardInterrupt\u001b[0m: "
     ]
    }
   ],
   "source": [
    "resultado_vnd = VND(vmp_array)"
   ]
  },
  {
   "cell_type": "code",
   "execution_count": 83,
   "metadata": {},
   "outputs": [
    {
     "name": "stdout",
     "output_type": "stream",
     "text": [
      "[909444, 749939, 515900, 457973, 404862, 423162, 322951, 286983, 857298, 883189] [143969, 228922, 293384, 264541, 491857, 511173, 482476, 437810, 563760, 609090]\n"
     ]
    }
   ],
   "source": [
    "vmp_array_x = []\n",
    "vmp_array_y = []\n",
    "for i in vmp_array:\n",
    "    vmp_array_x.append(i[0])\n",
    "    vmp_array_y.append(i[1])\n",
    "print(vmp_array_x, vmp_array_y)"
   ]
  },
  {
   "cell_type": "code",
   "execution_count": 84,
   "metadata": {
    "scrolled": false
   },
   "outputs": [
    {
     "data": {
      "text/plain": [
       "<matplotlib.legend.Legend at 0x7f4b5ce24cc0>"
      ]
     },
     "execution_count": 84,
     "metadata": {},
     "output_type": "execute_result"
    },
    {
     "data": {
      "image/png": "[encoded data removed]",
      "text/plain": [
       "<Figure size 1224x576 with 1 Axes>"
      ]
     },
     "metadata": {
      "needs_background": "light"
     },
     "output_type": "display_data"
    }
   ],
   "source": [
    "plt.rcParams['figure.figsize'] = [17, 8]\n",
    "plt.plot(vmp_array_x,vmp_array_y ,'ob-', label=str(vmp_dist))\n",
    "plt.legend()"
   ]
  },
  {
   "cell_type": "code",
   "execution_count": 85,
   "metadata": {},
   "outputs": [],
   "source": [
    "two_opt_array_x = []\n",
    "two_opt_array_y = []\n",
    "for i in two_opt_array:\n",
    "    two_opt_array_x.append(i[0])\n",
    "    two_opt_array_y.append(i[1])"
   ]
  },
  {
   "cell_type": "code",
   "execution_count": 86,
   "metadata": {
    "scrolled": false
   },
   "outputs": [
    {
     "data": {
      "text/plain": [
       "<matplotlib.legend.Legend at 0x7f4b5d089ac8>"
      ]
     },
     "execution_count": 86,
     "metadata": {},
     "output_type": "execute_result"
    },
    {
     "data": {
      "image/png": "[encoded data removed]",
      "text/plain": [
       "<Figure size 1224x576 with 1 Axes>"
      ]
     },
     "metadata": {
      "needs_background": "light"
     },
     "output_type": "display_data"
    }
   ],
   "source": [
    "plt.rcParams['figure.figsize'] = [17, 8]\n",
    "plt.plot(two_opt_array_x,two_opt_array_y ,'ob-', label=str(two_opt_dist))\n",
    "plt.legend()"
   ]
  },
  {
   "cell_type": "markdown",
   "metadata": {},
   "source": [
    "# Gráfico do Resultado"
   ]
  },
  {
   "cell_type": "code",
   "execution_count": 87,
   "metadata": {},
   "outputs": [],
   "source": [
    "resultado_vnd_x = []\n",
    "resultado_vnd_y = []\n",
    "for i in resultado_vnd:\n",
    "    resultado_vnd_x.append(i[0])\n",
    "    resultado_vnd_y.append(i[1])"
   ]
  },
  {
   "cell_type": "code",
   "execution_count": 88,
   "metadata": {},
   "outputs": [
    {
     "data": {
      "text/plain": [
       "<matplotlib.legend.Legend at 0x7f4b5cfe5828>"
      ]
     },
     "execution_count": 88,
     "metadata": {},
     "output_type": "execute_result"
    },
    {
     "data": {
      "image/png": "[encoded data removed]",
      "text/plain": [
       "<Figure size 1224x576 with 1 Axes>"
      ]
     },
     "metadata": {
      "needs_background": "light"
     },
     "output_type": "display_data"
    }
   ],
   "source": [
    "plt.rcParams['figure.figsize'] = [17, 8]\n",
    "plt.plot(resultado_vnd_x,resultado_vnd_y ,'ob-', label=str(two_opt_dist))\n",
    "plt.legend()"
   ]
  },
  {
   "cell_type": "code",
   "execution_count": null,
   "metadata": {},
   "outputs": [],
   "source": []
  },
  {
   "cell_type": "code",
   "execution_count": null,
   "metadata": {},
   "outputs": [],
   "source": []
  },
  {
   "cell_type": "code",
   "execution_count": null,
   "metadata": {},
   "outputs": [],
   "source": []
  }
 ],
 "metadata": {
  "kernelspec": {
   "display_name": "Python 3",
   "language": "python",
   "name": "python3"
  },
  "language_info": {
   "codemirror_mode": {
    "name": "ipython",
    "version": 3
   },
   "file_extension": ".py",
   "mimetype": "text/x-python",
   "name": "python",
   "nbconvert_exporter": "python",
   "pygments_lexer": "ipython3",
   "version": "3.6.6"
  }
 },
 "nbformat": 4,
 "nbformat_minor": 2
}
