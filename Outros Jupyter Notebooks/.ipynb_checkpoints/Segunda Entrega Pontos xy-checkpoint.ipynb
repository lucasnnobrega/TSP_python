{
 "cells": [
  {
   "cell_type": "markdown",
   "metadata": {},
   "source": [
    "# Segunda Entrega"
   ]
  },
  {
   "cell_type": "markdown",
   "metadata": {},
   "source": [
    "## Representação da solução\n",
    "\n",
    "Como a base está representada através de pontos que são os vértices e as arestas são as distâncias euclideanas para todos os pontos.\n",
    "Resumindo, todos os pontos estão \"conectados\" por uma aresta de peso igual a distância euclideana entre eles."
   ]
  },
  {
   "cell_type": "markdown",
   "metadata": {},
   "source": [
    "### Heuristicas Construtivas do PCV\n",
    "* Heuristica do vizinho mais próximo\n",
    "* Heuristica da inserção do mais próximo\n",
    "* Heuristica da inserção do mais distante"
   ]
  },
  {
   "cell_type": "code",
   "execution_count": 1,
   "metadata": {},
   "outputs": [],
   "source": [
    "%matplotlib inline\n",
    "import matplotlib.pyplot as plt\n",
    "\n",
    "import os\n",
    "\n",
    "from math import sqrt"
   ]
  },
  {
   "cell_type": "code",
   "execution_count": 2,
   "metadata": {},
   "outputs": [],
   "source": [
    "nome_de_instancias = os.listdir(\"./dataset/\")[:-1]"
   ]
  },
  {
   "cell_type": "code",
   "execution_count": 3,
   "metadata": {
    "scrolled": true
   },
   "outputs": [],
   "source": [
    "file_name = \"./dataset/\" + nome_de_instancias[12]\n",
    "with open(file_name, \"r\") as f:\n",
    "    text = f.read().split(\"\\n\")[6:-1]"
   ]
  },
  {
   "cell_type": "code",
   "execution_count": 4,
   "metadata": {},
   "outputs": [
    {
     "data": {
      "text/plain": [
       "('1 909444 143969', 1000)"
      ]
     },
     "execution_count": 4,
     "metadata": {},
     "output_type": "execute_result"
    }
   ],
   "source": [
    "text[0], len(text)"
   ]
  },
  {
   "cell_type": "code",
   "execution_count": 5,
   "metadata": {},
   "outputs": [],
   "source": [
    "coordenadas = []\n",
    "for vertice in text:\n",
    "    coordenadas.append(vertice.split(\" \"))"
   ]
  },
  {
   "cell_type": "code",
   "execution_count": 6,
   "metadata": {},
   "outputs": [
    {
     "data": {
      "text/plain": [
       "(['1', '909444', '143969'], 1000)"
      ]
     },
     "execution_count": 6,
     "metadata": {},
     "output_type": "execute_result"
    }
   ],
   "source": [
    "coordenadas[0], len(text)"
   ]
  },
  {
   "cell_type": "code",
   "execution_count": 7,
   "metadata": {},
   "outputs": [],
   "source": [
    "import numpy as np"
   ]
  },
  {
   "cell_type": "code",
   "execution_count": 8,
   "metadata": {},
   "outputs": [],
   "source": [
    "coordenadas_np = np.array(coordenadas).astype(\"int\")"
   ]
  },
  {
   "cell_type": "code",
   "execution_count": 9,
   "metadata": {},
   "outputs": [
    {
     "data": {
      "text/plain": [
       "(array([     1, 909444, 143969]), (1000, 3))"
      ]
     },
     "execution_count": 9,
     "metadata": {},
     "output_type": "execute_result"
    }
   ],
   "source": [
    "coordenadas_np[0], coordenadas_np.shape"
   ]
  },
  {
   "cell_type": "code",
   "execution_count": 10,
   "metadata": {},
   "outputs": [
    {
     "data": {
      "text/plain": [
       "([[909444, 143969],\n",
       "  [515900, 293384],\n",
       "  [749939, 228922],\n",
       "  [404862, 491857],\n",
       "  [286983, 437810]],\n",
       " 10)"
      ]
     },
     "execution_count": 10,
     "metadata": {},
     "output_type": "execute_result"
    }
   ],
   "source": [
    "pontos = []\n",
    "for no_x_y in coordenadas_np:\n",
    "    pontos.append([no_x_y[1], no_x_y[2]])\n",
    "pontos[0:5], len(pontos)\n",
    "pontos = pontos[0:10]\n",
    "pontos[0:5], len(pontos)"
   ]
  },
  {
   "cell_type": "markdown",
   "metadata": {},
   "source": [
    "# Arquivos com as instâncias aberto, agora criar  as funções"
   ]
  },
  {
   "cell_type": "markdown",
   "metadata": {},
   "source": [
    "# Cálculo das distâncias"
   ]
  },
  {
   "cell_type": "code",
   "execution_count": 17,
   "metadata": {},
   "outputs": [],
   "source": [
    "def dist(a, b):\n",
    "    return sqrt(pow(a[0] - b[0], 2) + pow(a[1] - b[1], 2))\n",
    "\n",
    "def distancia_percurso(points):\n",
    "    # Caso em que a lista é zero\n",
    "    if len(points) == 0:\n",
    "        return 0\n",
    "    \n",
    "    # Iniciando a distância com zero\n",
    "    distancia_percurso = 0\n",
    "    \n",
    "    # Soma todos os pontos\n",
    "    for i in range(len(points) - 1):\n",
    "        distancia_percurso += dist(points[i], points[i + 1])\n",
    "    \n",
    "    # Soma a distância do último ponto com o primeiro\n",
    "    distancia_percurso += dist(points[len(points)-1], points[0])\n",
    "    return distancia_percurso"
   ]
  },
  {
   "cell_type": "markdown",
   "metadata": {},
   "source": [
    "# Heuristica de Construção"
   ]
  },
  {
   "cell_type": "code",
   "execution_count": 18,
   "metadata": {},
   "outputs": [],
   "source": [
    "def vizinhos_mais_proximos(array_points):\n",
    "    \n",
    "    points = list(array_points)\n",
    "    \n",
    "    if len(points) == 0:\n",
    "        return []\n",
    "    \n",
    "    # Escolhe o vértice inicial\n",
    "    current = points[0]\n",
    "    # Armazena em um array, que terá o caminho criado pelo nnpoints\n",
    "    nnpoints = [current]\n",
    "    # Remove do conjuto total\n",
    "    points.remove(current)\n",
    "    # Repete até que o conjunto inicial acabe\n",
    "    while len(points) > 0:\n",
    "        next = points[0]\n",
    "        # Escolhe um vértice u mais próximo de um dos extremos de C\n",
    "        for point in points:\n",
    "            if dist(current, point) < dist(current, next):\n",
    "                next = point\n",
    "        # Acrescenta o vértice no array\n",
    "        nnpoints.append(next)\n",
    "        # Remove do conjunto\n",
    "        points.remove(next)\n",
    "        # considera que o novo nó a ser utilizado será o do final\n",
    "        current = next\n",
    "        # Numeros faltantes de pontos\n",
    "        print(\"Len points\", len(points), end=\"\\r\")\n",
    "    return nnpoints, distancia_percurso(nnpoints)"
   ]
  },
  {
   "cell_type": "markdown",
   "metadata": {},
   "source": [
    "# Movimento de Vizinhança"
   ]
  },
  {
   "cell_type": "code",
   "execution_count": 19,
   "metadata": {},
   "outputs": [],
   "source": [
    "def two_opt(array_points):\n",
    "    points = list(array_points)\n",
    "    \n",
    "    melhor_ate_agora = points\n",
    "    for i in range(len(points) - 1):\n",
    "        for j in range(i + 2, len(points) - 1):\n",
    "            # Verifica se a troca de 2 arestas é vantajosa, se sim, troque pela menor\n",
    "            if dist(points[i], points[i+1]) + dist(points[j], points[j+1]) > dist(points[i], points[j]) + dist(points[i+1], points[j+1]):          \n",
    "                # SWAP \n",
    "                points[i+1:j+1] = reversed(points[i+1:j+1])\n",
    "                if distancia_percurso(points) < distancia_percurso(melhor_ate_agora) :\n",
    "                    melhor_ate_agora = points\n",
    "                else:\n",
    "                    # RESWAP pois não é o melhor até agora\n",
    "                    points[i+1:j+1] = reversed(points[i+1:j+1])\n",
    "\n",
    "                    \n",
    "    return melhor_ate_agora, distancia_percurso(melhor_ate_agora)"
   ]
  },
  {
   "cell_type": "markdown",
   "metadata": {},
   "source": [
    "# Insertion\n",
    "\n",
    "Escolhe um vértice, testa todas as posições em um array e retorna o primeiro array que foi melhor que o original.\n",
    "\n",
    "First Improvement"
   ]
  },
  {
   "cell_type": "markdown",
   "metadata": {},
   "source": [
    "```\n",
    "def insertion(array_lista):\n",
    "    if len(array_lista) < 10:\n",
    "        raise ValueError(\"Lista vazia\")\n",
    "        \n",
    "    lista = list(array_lista)\n",
    "    melhor_ate_agora = distancia_percurso(lista)\n",
    "    print(melhor_ate_agora)\n",
    "    \n",
    "    for i in range(len(lista)):\n",
    "        a = lista.pop(i)\n",
    "        #print(i,len(lista)) #end='\\r')\n",
    "        for j in range(len(lista)-1):\n",
    "            lista.insert(j, a)\n",
    "            nova_distancia = distancia_percurso(lista)\n",
    "            print(\"len\", len(lista))\n",
    "            if nova_distancia < melhor_ate_agora:\n",
    "                melhor_ate_agora = nova_distancia\n",
    "                #print(melhor_ate_agora)\n",
    "                return lista\n",
    "            else:\n",
    "                # Removendo, já que não possui distância menor\n",
    "                #pass\n",
    "                lista.pop(j)\n",
    "        lista.insert(i,a)\n",
    "```        "
   ]
  },
  {
   "cell_type": "code",
   "execution_count": 20,
   "metadata": {},
   "outputs": [],
   "source": [
    "def insertion(array_lista):\n",
    "    if len(array_lista) < 10:\n",
    "        raise ValueError(\"Lista vazia\")\n",
    "        \n",
    "    lista = list(array_lista)\n",
    "    melhor_ate_agora = distancia_percurso(lista)\n",
    "    print(melhor_ate_agora)\n",
    "    \n",
    "    for i in range(len(lista)):\n",
    "        a = lista.pop(i)\n",
    "        #print(i,len(lista)) #end='\\r')\n",
    "        for j in range(len(lista)-1):\n",
    "            lista.insert(j, a)\n",
    "            nova_distancia = distancia_percurso(lista)\n",
    "            print(\"len\", len(lista))\n",
    "            if nova_distancia < melhor_ate_agora:\n",
    "                melhor_ate_agora = nova_distancia\n",
    "                #print(melhor_ate_agora)\n",
    "                return lista\n",
    "            else:\n",
    "                # Removendo, já que não possui distância menor\n",
    "                #pass\n",
    "                lista.pop(j)\n",
    "        lista.insert(i,a)"
   ]
  },
  {
   "cell_type": "code",
   "execution_count": 63,
   "metadata": {
    "scrolled": false
   },
   "outputs": [
    {
     "ename": "IndentationError",
     "evalue": "expected an indented block (<ipython-input-63-fd5425a43297>, line 21)",
     "output_type": "error",
     "traceback": [
      "\u001b[0;36m  File \u001b[0;32m\"<ipython-input-63-fd5425a43297>\"\u001b[0;36m, line \u001b[0;32m21\u001b[0m\n\u001b[0;31m    lista.pop(j)\u001b[0m\n\u001b[0m        ^\u001b[0m\n\u001b[0;31mIndentationError\u001b[0m\u001b[0;31m:\u001b[0m expected an indented block\n"
     ]
    }
   ],
   "source": [
    "#lista = list(pontos)\n",
    "\n",
    "lista = [(i, 12-i) for i in range(10)]\n",
    "\n",
    "print(lista, \"\\n\\n\")\n",
    "melhor_ate_agora = distancia_percurso(lista)\n",
    "print(melhor_ate_agora)\n",
    "\n",
    "for i in range(len(lista)):\n",
    "    print(\"\\n\\ni == \", i)\n",
    "    print(lista)\n",
    "    a = lista.pop(i)\n",
    "    print(a, \"cut\", lista)\n",
    "    print(\"Começando o 2º for\")\n",
    "    for j in range(len(lista)+1):\n",
    "        lista.insert(j,a)\n",
    "        novo_melhor = distancia_percurso(lista)\n",
    "        print(\"#\"*3, lista,\"SUM =>\", novo_melhor)\n",
    "        if novo_melhor < melhor_ate_agora:\n",
    "            novo_melhor = melhor_ate_agora\n",
    "        lista.pop(j)\n",
    "    lista.insert(i,a)\n"
   ]
  },
  {
   "cell_type": "markdown",
   "metadata": {},
   "source": [
    "# Processo de Criação"
   ]
  },
  {
   "cell_type": "code",
   "execution_count": 21,
   "metadata": {
    "scrolled": true
   },
   "outputs": [
    {
     "name": "stdout",
     "output_type": "stream",
     "text": [
      "Len points 8\r",
      "Len points 7\r",
      "Len points 6\r",
      "Len points 5\r",
      "Len points 4\r",
      "Len points 3\r",
      "Len points 2\r",
      "Len points 1\r",
      "Len points 0\r",
      "Custo: 2011936.7172322923\n"
     ]
    }
   ],
   "source": [
    "vmp_array, vmp_dist = vizinhos_mais_proximos(pontos)\n",
    "print(\"Custo:\", vmp_dist)"
   ]
  },
  {
   "cell_type": "markdown",
   "metadata": {},
   "source": [
    "Array criado, nome de `vmp_array`, e custo de `vmp_dist`"
   ]
  },
  {
   "cell_type": "markdown",
   "metadata": {},
   "source": [
    "## Benckmark com o Insertion"
   ]
  },
  {
   "cell_type": "code",
   "execution_count": 22,
   "metadata": {},
   "outputs": [
    {
     "name": "stdout",
     "output_type": "stream",
     "text": [
      "2011936.7172322923\n",
      "len 10\n",
      "len 10\n",
      "len 10\n",
      "len 10\n",
      "len 10\n",
      "len 10\n",
      "len 10\n",
      "len 10\n",
      "len 10\n",
      "len 10\n",
      "len 10\n",
      "len 10\n",
      "len 10\n",
      "len 10\n",
      "len 10\n",
      "len 10\n",
      "len 10\n",
      "len 10\n",
      "len 10\n",
      "len 10\n",
      "len 10\n",
      "len 10\n",
      "len 10\n",
      "len 10\n",
      "len 10\n",
      "len 10\n",
      "len 10\n",
      "len 10\n",
      "len 10\n",
      "len 10\n",
      "len 10\n",
      "len 10\n",
      "len 10\n",
      "len 10\n",
      "len 10\n",
      "len 10\n",
      "len 10\n",
      "len 10\n",
      "CPU times: user 3.54 ms, sys: 0 ns, total: 3.54 ms\n",
      "Wall time: 2.39 ms\n"
     ]
    }
   ],
   "source": [
    "%time insertion_array = insertion(vmp_array)"
   ]
  },
  {
   "cell_type": "markdown",
   "metadata": {},
   "source": [
    "## Benckmark com o 2-OPT"
   ]
  },
  {
   "cell_type": "code",
   "execution_count": 23,
   "metadata": {},
   "outputs": [
    {
     "name": "stdout",
     "output_type": "stream",
     "text": [
      "CPU times: user 214 µs, sys: 0 ns, total: 214 µs\n",
      "Wall time: 218 µs\n"
     ]
    }
   ],
   "source": [
    "%time two_opt_array, two_opt_dist = two_opt(vmp_array)"
   ]
  },
  {
   "cell_type": "markdown",
   "metadata": {},
   "source": [
    "# VND (Variable Neighbourhood Descent)"
   ]
  },
  {
   "cell_type": "code",
   "execution_count": 24,
   "metadata": {},
   "outputs": [],
   "source": [
    "def VND(array_lista):\n",
    "    lista = list(array_lista)\n",
    "    \n",
    "    \n",
    "    melhor_ate_agora = distancia_percurso(lista)\n",
    "    print(\"Inicial:\", melhor_ate_agora)\n",
    "    while 1:\n",
    "        print(\"\\n## ## ##\\n\")\n",
    "        # Rodar 2-OPT, caso for bom, rodo de novo\n",
    "        lista_two_opt, two_opt_dist = two_opt(lista)\n",
    "        print(\"2-OPT: \", two_opt_dist, len(two_opt_array))\n",
    "        if two_opt_dist < melhor_ate_agora:\n",
    "            melhor_ate_agora = two_opt_dist\n",
    "            lista = lista_two_opt\n",
    "            continue\n",
    "        \n",
    "        # Se 2-OPT for ruim, rode o Insertion\n",
    "        insertion_array = insertion(lista)\n",
    "        \n",
    "        insertion_dist = distancia_percurso(insertion_array)\n",
    "        print(\"Insertion:\", insertion_dist, len(insertion_array))\n",
    "        # Caso o Insertion for bom, volte pro 2-OPT\n",
    "        if insertion_dist < melhor_ate_agora:\n",
    "            melhor_ate_agora = insertion_dist\n",
    "            lista = insertion_array\n",
    "            continue\n",
    "        # Caso o Insertion e o 2-OPT for ruim, pare\n",
    "        print(\"Insertion e 2-OPT sem sucesso\")\n",
    "        break\n",
    "    return lista"
   ]
  },
  {
   "cell_type": "code",
   "execution_count": 25,
   "metadata": {
    "scrolled": false
   },
   "outputs": [
    {
     "name": "stdout",
     "output_type": "stream",
     "text": [
      "Inicial: 2011936.7172322923\n",
      "\n",
      "## ## ##\n",
      "\n",
      "2-OPT:  2011936.7172322923 10\n",
      "2011936.7172322923\n",
      "len 10\n",
      "len 10\n",
      "len 10\n",
      "len 10\n",
      "len 10\n",
      "len 10\n",
      "len 10\n",
      "len 10\n",
      "len 10\n",
      "len 10\n",
      "len 10\n",
      "len 10\n",
      "len 10\n",
      "len 10\n",
      "len 10\n",
      "len 10\n",
      "len 10\n",
      "len 10\n",
      "len 10\n",
      "len 10\n",
      "len 10\n",
      "len 10\n",
      "len 10\n",
      "len 10\n",
      "len 10\n",
      "len 10\n",
      "len 10\n",
      "len 10\n",
      "len 10\n",
      "len 10\n",
      "len 10\n",
      "len 10\n",
      "len 10\n",
      "len 10\n",
      "len 10\n",
      "len 10\n",
      "len 10\n",
      "len 10\n",
      "Insertion: 2005782.68971736 10\n",
      "\n",
      "## ## ##\n",
      "\n",
      "2-OPT:  2005782.68971736 10\n",
      "2005782.68971736\n",
      "len 10\n",
      "len 10\n",
      "len 10\n",
      "len 10\n",
      "len 10\n",
      "len 10\n",
      "len 10\n",
      "len 10\n",
      "len 10\n",
      "len 10\n",
      "len 10\n",
      "len 10\n",
      "len 10\n",
      "len 10\n",
      "len 10\n",
      "len 10\n",
      "len 10\n",
      "len 10\n",
      "len 10\n",
      "len 10\n",
      "len 10\n",
      "len 10\n",
      "len 10\n",
      "len 10\n",
      "len 10\n",
      "len 10\n",
      "len 10\n",
      "len 10\n",
      "len 10\n",
      "len 10\n",
      "len 10\n",
      "len 10\n",
      "len 10\n",
      "len 10\n",
      "len 10\n",
      "len 10\n",
      "len 10\n",
      "len 10\n",
      "len 10\n",
      "len 10\n",
      "Insertion: 1971471.3418150942 10\n",
      "\n",
      "## ## ##\n",
      "\n",
      "2-OPT:  1971471.3418150942 10\n",
      "1971471.3418150942\n",
      "len 10\n",
      "len 10\n",
      "len 10\n",
      "len 10\n",
      "len 10\n",
      "len 10\n",
      "len 10\n",
      "len 10\n",
      "len 10\n",
      "len 10\n",
      "len 10\n",
      "len 10\n",
      "len 10\n",
      "len 10\n",
      "len 10\n",
      "len 10\n",
      "len 10\n",
      "len 10\n",
      "len 10\n",
      "len 10\n",
      "len 10\n",
      "len 10\n",
      "len 10\n",
      "len 10\n",
      "len 10\n",
      "len 10\n",
      "len 10\n",
      "len 10\n",
      "len 10\n",
      "len 10\n",
      "len 10\n",
      "len 10\n",
      "len 10\n",
      "len 10\n",
      "len 10\n",
      "len 10\n",
      "len 10\n",
      "len 10\n",
      "len 10\n",
      "Insertion: 1913562.5752325938 10\n",
      "\n",
      "## ## ##\n",
      "\n",
      "2-OPT:  1913562.5752325938 10\n",
      "1913562.5752325938\n",
      "len 10\n",
      "len 10\n",
      "len 10\n",
      "len 10\n",
      "len 10\n",
      "len 10\n",
      "len 10\n",
      "len 10\n",
      "len 10\n",
      "len 10\n",
      "len 10\n",
      "len 10\n",
      "len 10\n",
      "len 10\n",
      "len 10\n",
      "len 10\n",
      "len 10\n",
      "len 10\n",
      "len 10\n",
      "len 10\n",
      "len 10\n",
      "len 10\n",
      "len 10\n",
      "len 10\n",
      "len 10\n",
      "len 10\n",
      "len 10\n",
      "len 10\n",
      "len 10\n",
      "len 10\n",
      "len 10\n",
      "len 10\n",
      "len 10\n",
      "len 10\n",
      "len 10\n",
      "len 10\n",
      "len 10\n",
      "len 10\n",
      "Insertion: 1853391.6251834133 10\n",
      "\n",
      "## ## ##\n",
      "\n",
      "2-OPT:  1853391.6251834133 10\n",
      "1853391.6251834133\n",
      "len 10\n",
      "len 10\n",
      "len 10\n",
      "len 10\n",
      "len 10\n",
      "len 10\n",
      "len 10\n",
      "len 10\n",
      "len 10\n",
      "len 10\n",
      "len 10\n",
      "len 10\n",
      "len 10\n",
      "len 10\n",
      "len 10\n",
      "len 10\n",
      "len 10\n",
      "len 10\n",
      "len 10\n",
      "len 10\n",
      "len 10\n",
      "len 10\n",
      "len 10\n",
      "len 10\n",
      "len 10\n",
      "len 10\n",
      "len 10\n",
      "len 10\n",
      "len 10\n",
      "len 10\n",
      "len 10\n",
      "len 10\n",
      "len 10\n",
      "len 10\n",
      "len 10\n",
      "len 10\n",
      "len 10\n",
      "len 10\n",
      "len 10\n",
      "len 10\n",
      "len 10\n",
      "len 10\n",
      "len 10\n",
      "len 10\n",
      "len 10\n",
      "len 10\n",
      "len 10\n",
      "len 10\n",
      "len 10\n",
      "len 10\n",
      "len 10\n",
      "len 10\n",
      "len 10\n",
      "len 10\n",
      "len 10\n",
      "len 10\n",
      "len 10\n",
      "len 10\n",
      "len 10\n",
      "len 10\n",
      "len 10\n",
      "len 10\n",
      "len 10\n",
      "len 10\n",
      "len 10\n",
      "Insertion: 1843570.6338834998 10\n",
      "\n",
      "## ## ##\n",
      "\n",
      "2-OPT:  1843570.6338834998 10\n",
      "1843570.6338834998\n",
      "len 10\n",
      "len 10\n",
      "len 10\n",
      "len 10\n",
      "len 10\n",
      "len 10\n",
      "len 10\n",
      "len 10\n",
      "len 10\n",
      "len 10\n",
      "len 10\n",
      "len 10\n",
      "len 10\n",
      "len 10\n",
      "len 10\n",
      "len 10\n",
      "len 10\n",
      "len 10\n",
      "len 10\n",
      "len 10\n",
      "len 10\n",
      "len 10\n",
      "len 10\n",
      "len 10\n",
      "len 10\n",
      "len 10\n",
      "len 10\n",
      "len 10\n",
      "len 10\n",
      "len 10\n",
      "len 10\n",
      "len 10\n",
      "len 10\n",
      "len 10\n",
      "len 10\n",
      "len 10\n",
      "len 10\n",
      "len 10\n",
      "len 10\n",
      "len 10\n",
      "len 10\n",
      "len 10\n",
      "len 10\n",
      "len 10\n",
      "len 10\n",
      "len 10\n",
      "len 10\n",
      "len 10\n",
      "len 10\n",
      "len 10\n",
      "len 10\n",
      "len 10\n",
      "len 10\n",
      "len 10\n",
      "len 10\n",
      "len 10\n",
      "len 10\n",
      "len 10\n",
      "len 10\n",
      "len 10\n",
      "len 10\n",
      "len 10\n",
      "len 10\n",
      "len 10\n",
      "len 10\n",
      "len 10\n",
      "len 10\n",
      "len 10\n",
      "len 10\n",
      "len 10\n",
      "len 10\n",
      "len 10\n",
      "len 10\n",
      "len 10\n",
      "len 10\n",
      "len 10\n",
      "len 10\n",
      "len 10\n",
      "len 10\n",
      "len 10\n"
     ]
    },
    {
     "ename": "TypeError",
     "evalue": "object of type 'NoneType' has no len()",
     "output_type": "error",
     "traceback": [
      "\u001b[0;31m---------------------------------------------------------------------------\u001b[0m",
      "\u001b[0;31mTypeError\u001b[0m                                 Traceback (most recent call last)",
      "\u001b[0;32m<ipython-input-25-516f23b2f8aa>\u001b[0m in \u001b[0;36m<module>\u001b[0;34m\u001b[0m\n\u001b[0;32m----> 1\u001b[0;31m \u001b[0mresultado_vnd\u001b[0m \u001b[0;34m=\u001b[0m \u001b[0mVND\u001b[0m\u001b[0;34m(\u001b[0m\u001b[0mvmp_array\u001b[0m\u001b[0;34m)\u001b[0m\u001b[0;34m\u001b[0m\u001b[0m\n\u001b[0m",
      "\u001b[0;32m<ipython-input-24-0474ae1e0da2>\u001b[0m in \u001b[0;36mVND\u001b[0;34m(array_lista)\u001b[0m\n\u001b[1;32m     18\u001b[0m         \u001b[0minsertion_array\u001b[0m \u001b[0;34m=\u001b[0m \u001b[0minsertion\u001b[0m\u001b[0;34m(\u001b[0m\u001b[0mlista\u001b[0m\u001b[0;34m)\u001b[0m\u001b[0;34m\u001b[0m\u001b[0m\n\u001b[1;32m     19\u001b[0m \u001b[0;34m\u001b[0m\u001b[0m\n\u001b[0;32m---> 20\u001b[0;31m         \u001b[0minsertion_dist\u001b[0m \u001b[0;34m=\u001b[0m \u001b[0mdistancia_percurso\u001b[0m\u001b[0;34m(\u001b[0m\u001b[0minsertion_array\u001b[0m\u001b[0;34m)\u001b[0m\u001b[0;34m\u001b[0m\u001b[0m\n\u001b[0m\u001b[1;32m     21\u001b[0m         \u001b[0mprint\u001b[0m\u001b[0;34m(\u001b[0m\u001b[0;34m\"Insertion:\"\u001b[0m\u001b[0;34m,\u001b[0m \u001b[0minsertion_dist\u001b[0m\u001b[0;34m,\u001b[0m \u001b[0mlen\u001b[0m\u001b[0;34m(\u001b[0m\u001b[0minsertion_array\u001b[0m\u001b[0;34m)\u001b[0m\u001b[0;34m)\u001b[0m\u001b[0;34m\u001b[0m\u001b[0m\n\u001b[1;32m     22\u001b[0m         \u001b[0;31m# Caso o Insertion for bom, volte pro 2-OPT\u001b[0m\u001b[0;34m\u001b[0m\u001b[0;34m\u001b[0m\u001b[0m\n",
      "\u001b[0;32m<ipython-input-17-d8114f88ff47>\u001b[0m in \u001b[0;36mdistancia_percurso\u001b[0;34m(points)\u001b[0m\n\u001b[1;32m      4\u001b[0m \u001b[0;32mdef\u001b[0m \u001b[0mdistancia_percurso\u001b[0m\u001b[0;34m(\u001b[0m\u001b[0mpoints\u001b[0m\u001b[0;34m)\u001b[0m\u001b[0;34m:\u001b[0m\u001b[0;34m\u001b[0m\u001b[0m\n\u001b[1;32m      5\u001b[0m     \u001b[0;31m# Caso em que a lista é zero\u001b[0m\u001b[0;34m\u001b[0m\u001b[0;34m\u001b[0m\u001b[0m\n\u001b[0;32m----> 6\u001b[0;31m     \u001b[0;32mif\u001b[0m \u001b[0mlen\u001b[0m\u001b[0;34m(\u001b[0m\u001b[0mpoints\u001b[0m\u001b[0;34m)\u001b[0m \u001b[0;34m==\u001b[0m \u001b[0;36m0\u001b[0m\u001b[0;34m:\u001b[0m\u001b[0;34m\u001b[0m\u001b[0m\n\u001b[0m\u001b[1;32m      7\u001b[0m         \u001b[0;32mreturn\u001b[0m \u001b[0;36m0\u001b[0m\u001b[0;34m\u001b[0m\u001b[0m\n\u001b[1;32m      8\u001b[0m \u001b[0;34m\u001b[0m\u001b[0m\n",
      "\u001b[0;31mTypeError\u001b[0m: object of type 'NoneType' has no len()"
     ]
    }
   ],
   "source": [
    "resultado_vnd = VND(vmp_array)"
   ]
  },
  {
   "cell_type": "code",
   "execution_count": 26,
   "metadata": {},
   "outputs": [
    {
     "name": "stdout",
     "output_type": "stream",
     "text": [
      "[909444, 749939, 515900, 457973, 404862, 423162, 322951, 286983, 857298, 883189] [143969, 228922, 293384, 264541, 491857, 511173, 482476, 437810, 563760, 609090]\n"
     ]
    }
   ],
   "source": [
    "vmp_array_x = []\n",
    "vmp_array_y = []\n",
    "for i in vmp_array:\n",
    "    vmp_array_x.append(i[0])\n",
    "    vmp_array_y.append(i[1])\n",
    "print(vmp_array_x, vmp_array_y)"
   ]
  },
  {
   "cell_type": "code",
   "execution_count": 27,
   "metadata": {
    "scrolled": false
   },
   "outputs": [
    {
     "data": {
      "text/plain": [
       "<matplotlib.legend.Legend at 0x7f4b5d102b00>"
      ]
     },
     "execution_count": 27,
     "metadata": {},
     "output_type": "execute_result"
    },
    {
     "data": {
      "image/png": "[encoded data removed]",
      "text/plain": [
       "<Figure size 1224x576 with 1 Axes>"
      ]
     },
     "metadata": {
      "needs_background": "light"
     },
     "output_type": "display_data"
    }
   ],
   "source": [
    "plt.rcParams['figure.figsize'] = [17, 8]\n",
    "plt.plot(vmp_array_x,vmp_array_y ,'ob-', label=str(vmp_dist))\n",
    "plt.legend()"
   ]
  },
  {
   "cell_type": "markdown",
   "metadata": {},
   "source": [
    "#nna_array[1], nna_array[0:][0], nna_array[0:][1]\n",
    "nna_array_x = []\n",
    "nna_array_y = []\n",
    "for i in pontos[0:5]:\n",
    "    nna_array_x.append(i[0])\n",
    "    nna_array_y.append(i[1])\n",
    "print(nna_array_x, nna_array_y)"
   ]
  },
  {
   "cell_type": "markdown",
   "metadata": {
    "scrolled": false
   },
   "source": [
    "plt.rcParams['figure.figsize'] = [17, 8]\n",
    "plt.plot(nna_array_x,nna_array_y ,'ob-', label=str(nna_dist))\n",
    "plt.legend()"
   ]
  },
  {
   "cell_type": "code",
   "execution_count": null,
   "metadata": {},
   "outputs": [],
   "source": [
    "two_opt_array_x = []\n",
    "two_opt_array_y = []\n",
    "for i in two_opt_array:\n",
    "    two_opt_array_x.append(i[0])\n",
    "    two_opt_array_y.append(i[1])"
   ]
  },
  {
   "cell_type": "code",
   "execution_count": null,
   "metadata": {
    "scrolled": false
   },
   "outputs": [],
   "source": [
    "plt.rcParams['figure.figsize'] = [17, 8]\n",
    "plt.plot(two_opt_array_x,two_opt_array_y ,'ob-', label=str(two_opt_dist))\n",
    "plt.legend()"
   ]
  },
  {
   "cell_type": "markdown",
   "metadata": {},
   "source": [
    "# Gráfico do Resultado"
   ]
  },
  {
   "cell_type": "code",
   "execution_count": null,
   "metadata": {},
   "outputs": [],
   "source": [
    "resultado_vnd_x = []\n",
    "resultado_vnd_y = []\n",
    "for i in resultado_vnd:\n",
    "    resultado_vnd_x.append(i[0])\n",
    "    resultado_vnd_y.append(i[1])"
   ]
  },
  {
   "cell_type": "code",
   "execution_count": null,
   "metadata": {},
   "outputs": [],
   "source": [
    "plt.rcParams['figure.figsize'] = [17, 8]\n",
    "plt.plot(resultado_vnd_x,resultado_vnd_y ,'ob-', label=str(two_opt_dist))\n",
    "plt.legend()"
   ]
  },
  {
   "cell_type": "code",
   "execution_count": null,
   "metadata": {},
   "outputs": [],
   "source": []
  },
  {
   "cell_type": "code",
   "execution_count": null,
   "metadata": {},
   "outputs": [],
   "source": []
  },
  {
   "cell_type": "code",
   "execution_count": null,
   "metadata": {},
   "outputs": [],
   "source": []
  }
 ],
 "metadata": {
  "kernelspec": {
   "display_name": "Python 3",
   "language": "python",
   "name": "python3"
  },
  "language_info": {
   "codemirror_mode": {
    "name": "ipython",
    "version": 3
   },
   "file_extension": ".py",
   "mimetype": "text/x-python",
   "name": "python",
   "nbconvert_exporter": "python",
   "pygments_lexer": "ipython3",
   "version": "3.6.6"
  }
 },
 "nbformat": 4,
 "nbformat_minor": 2
}
