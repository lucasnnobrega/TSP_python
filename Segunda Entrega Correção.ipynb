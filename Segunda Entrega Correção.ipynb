{
 "cells": [
  {
   "cell_type": "markdown",
   "metadata": {},
   "source": [
    "# Segunda Entrega"
   ]
  },
  {
   "cell_type": "markdown",
   "metadata": {},
   "source": [
    "## Representação da solução\n",
    "\n",
    "Como a base está representada através de pontos que são os vértices e as arestas são as distâncias euclideanas para todos os pontos.\n",
    "Resumindo, todos os pontos estão \"conectados\" por uma aresta de peso igual a distância euclideana entre eles."
   ]
  },
  {
   "cell_type": "markdown",
   "metadata": {},
   "source": [
    "### Heuristicas Construtivas do PCV\n",
    "* Heuristica do vizinho mais próximo\n",
    "* Heuristica da inserção do mais próximo\n",
    "* Heuristica da inserção do mais distante"
   ]
  },
  {
   "cell_type": "code",
   "execution_count": 7,
   "metadata": {},
   "outputs": [],
   "source": [
    "#%matplotlib inline\n",
    "%matplotlib notebook\n",
    "import matplotlib.pyplot as plt\n",
    "\n",
    "import os\n",
    "import numpy as np\n",
    "from math import sqrt"
   ]
  },
  {
   "cell_type": "code",
   "execution_count": 2,
   "metadata": {},
   "outputs": [],
   "source": [
    "nome_de_instancias = os.listdir(\"./dataset/\")[:-1]"
   ]
  },
  {
   "cell_type": "code",
   "execution_count": 3,
   "metadata": {
    "scrolled": true
   },
   "outputs": [],
   "source": [
    "file_name = \"./dataset/\" + nome_de_instancias[12]\n",
    "with open(file_name, \"r\") as f:\n",
    "    text = f.read().split(\"\\n\")[6:-1]"
   ]
  },
  {
   "cell_type": "code",
   "execution_count": 4,
   "metadata": {},
   "outputs": [
    {
     "data": {
      "text/plain": [
       "('1 909444 143969', 1000)"
      ]
     },
     "execution_count": 4,
     "metadata": {},
     "output_type": "execute_result"
    }
   ],
   "source": [
    "text[0], len(text)"
   ]
  },
  {
   "cell_type": "code",
   "execution_count": 5,
   "metadata": {},
   "outputs": [],
   "source": [
    "coordenadas = []\n",
    "for vertice in text:\n",
    "    coordenadas.append(vertice.split(\" \"))"
   ]
  },
  {
   "cell_type": "code",
   "execution_count": 6,
   "metadata": {},
   "outputs": [
    {
     "data": {
      "text/plain": [
       "(['1', '909444', '143969'], 1000)"
      ]
     },
     "execution_count": 6,
     "metadata": {},
     "output_type": "execute_result"
    }
   ],
   "source": [
    "coordenadas[0], len(text)"
   ]
  },
  {
   "cell_type": "code",
   "execution_count": 7,
   "metadata": {},
   "outputs": [],
   "source": [
    "coordenadas_np = np.array(coordenadas).astype(\"int\")"
   ]
  },
  {
   "cell_type": "code",
   "execution_count": 8,
   "metadata": {},
   "outputs": [
    {
     "data": {
      "text/plain": [
       "(array([     1, 909444, 143969]), (1000, 3))"
      ]
     },
     "execution_count": 8,
     "metadata": {},
     "output_type": "execute_result"
    }
   ],
   "source": [
    "coordenadas_np[0], coordenadas_np.shape"
   ]
  },
  {
   "cell_type": "code",
   "execution_count": 9,
   "metadata": {
    "scrolled": true
   },
   "outputs": [
    {
     "data": {
      "text/plain": [
       "([[909444, 143969],\n",
       "  [515900, 293384],\n",
       "  [749939, 228922],\n",
       "  [404862, 491857],\n",
       "  [286983, 437810]],\n",
       " 1000)"
      ]
     },
     "execution_count": 9,
     "metadata": {},
     "output_type": "execute_result"
    }
   ],
   "source": [
    "pontos = []\n",
    "for no_x_y in coordenadas_np:\n",
    "    pontos.append([no_x_y[1], no_x_y[2]])\n",
    "pontos[0:5], len(pontos)"
   ]
  },
  {
   "cell_type": "code",
   "execution_count": 10,
   "metadata": {},
   "outputs": [
    {
     "data": {
      "text/plain": [
       "([[909444, 143969],\n",
       "  [515900, 293384],\n",
       "  [749939, 228922],\n",
       "  [404862, 491857],\n",
       "  [286983, 437810]],\n",
       " 100)"
      ]
     },
     "execution_count": 10,
     "metadata": {},
     "output_type": "execute_result"
    }
   ],
   "source": [
    "tamanho = 100\n",
    "pontos = pontos[0:tamanho]\n",
    "pontos[0:5], len(pontos)"
   ]
  },
  {
   "cell_type": "markdown",
   "metadata": {},
   "source": [
    "# Arquivos com as instâncias aberto, agora criar  as funções"
   ]
  },
  {
   "cell_type": "markdown",
   "metadata": {},
   "source": [
    "# Cálculo das distâncias"
   ]
  },
  {
   "cell_type": "code",
   "execution_count": 2,
   "metadata": {},
   "outputs": [],
   "source": [
    "def dist(a, b):\n",
    "    return sqrt(pow(a[0] - b[0], 2) + pow(a[1] - b[1], 2))\n",
    "\n",
    "def distancia_percurso(points):\n",
    "    # Caso em que a lista é zero\n",
    "    if len(points) == 0:\n",
    "        return 0\n",
    "    \n",
    "    # Iniciando a distância com zero\n",
    "    distancia_percurso = 0\n",
    "    \n",
    "    # Soma todos os pontos\n",
    "    for i in range(len(points) - 1):\n",
    "        distancia_percurso += dist(points[i], points[i + 1])\n",
    "    \n",
    "    # Soma a distância do último ponto com o primeiro\n",
    "    distancia_percurso += dist(points[len(points)-1], points[0])\n",
    "    return distancia_percurso"
   ]
  },
  {
   "cell_type": "markdown",
   "metadata": {},
   "source": [
    "# Heuristica de Construção"
   ]
  },
  {
   "cell_type": "code",
   "execution_count": 3,
   "metadata": {},
   "outputs": [],
   "source": [
    "def vizinhos_mais_proximos(array_points):\n",
    "    \n",
    "    points = list(array_points)\n",
    "    \n",
    "    if len(points) == 0:\n",
    "        return []\n",
    "    \n",
    "    # Escolhe o vértice inicial\n",
    "    current = points[0]\n",
    "    # Armazena em um array, que terá o caminho criado pelo nnpoints\n",
    "    nnpoints = [current]\n",
    "    # Remove do conjuto total\n",
    "    points.remove(current)\n",
    "    # Repete até que o conjunto inicial acabe\n",
    "    while len(points) > 0:\n",
    "        next = points[0]\n",
    "        # Escolhe um vértice u mais próximo de um dos extremos de C\n",
    "        for point in points:\n",
    "            if dist(current, point) < dist(current, next):\n",
    "                next = point\n",
    "        # Acrescenta o vértice no array\n",
    "        nnpoints.append(next)\n",
    "        # Remove do conjunto\n",
    "        points.remove(next)\n",
    "        # considera que o novo nó a ser utilizado será o do final\n",
    "        current = next\n",
    "        # Numeros faltantes de pontos\n",
    "        print(\"Len points\", len(points), end=\"\\r\")\n",
    "    return nnpoints, distancia_percurso(nnpoints)"
   ]
  },
  {
   "cell_type": "markdown",
   "metadata": {},
   "source": [
    "# Movimento de Vizinhança\n",
    "\n",
    "## 2-OPT"
   ]
  },
  {
   "cell_type": "code",
   "execution_count": 4,
   "metadata": {},
   "outputs": [],
   "source": [
    "def two_opt(array_points):\n",
    "    points = list(array_points)\n",
    "    \n",
    "    melhor_ate_agora = list(points)\n",
    "    print(\"Dist inicial:\", distancia_percurso(melhor_ate_agora))\n",
    "    \n",
    "    for i in range(len(points) - 1):\n",
    "        for j in range(i + 2, len(points) - 1):\n",
    "            # Verifica se a troca de 2 arestas é vantajosa, se sim, troque pela menor\n",
    "            if dist(points[i], points[i+1]) + dist(points[j], points[j+1]) > dist(points[i], points[j]) + dist(points[i+1], points[j+1]):          \n",
    "                #print(\"vai dar swap\")\n",
    "                # SWAP \n",
    "                points[i+1:j+1] = reversed(points[i+1:j+1])\n",
    "                #print(points[i+1:j+1], reversed(points[i+1:j+1]))\n",
    "                if distancia_percurso(points) < distancia_percurso(melhor_ate_agora):\n",
    "                    #print(\"pegou um\")\n",
    "                    melhor_ate_agora = points\n",
    "                    continue\n",
    "                else:\n",
    "                    # RESWAP pois não é o melhor até agora\n",
    "                    points[i+1:j+1] = reversed(points[i+1:j+1])\n",
    "\n",
    "                    \n",
    "    return melhor_ate_agora, distancia_percurso(melhor_ate_agora)"
   ]
  },
  {
   "cell_type": "markdown",
   "metadata": {},
   "source": [
    "# Insertion\n",
    "\n",
    "Escolhe um vértice, testa todas as posições em um array e retorna o primeiro array que foi melhor que o original.\n",
    "\n",
    "First Improvement"
   ]
  },
  {
   "cell_type": "code",
   "execution_count": 10,
   "metadata": {},
   "outputs": [],
   "source": [
    "def insertion(array_lista):\n",
    "    if len(array_lista) < 0:\n",
    "        raise ValueError(\"Lista vazia\")\n",
    "        \n",
    "    lista = list(array_lista)\n",
    "    melhor_ate_agora = distancia_percurso(lista)\n",
    "    print(\"Distancia Da entrada: \", melhor_ate_agora)\n",
    "    \n",
    "    for i in range(len(lista)):\n",
    "        a = lista.pop(i)\n",
    "        #print(i,len(lista)) #end='\\r')\n",
    "        for j in range(len(lista)+1):\n",
    "            lista.insert(j, a)\n",
    "            nova_distancia = distancia_percurso(lista)\n",
    "            print(\"#\"*3, lista,\"SUM =>\", novo_melhor)\n",
    "            #print(\"len\", len(lista))\n",
    "            if nova_distancia < melhor_ate_agora:\n",
    "                melhor_ate_agora = nova_distancia\n",
    "                #print(melhor_ate_agora)\n",
    "                \n",
    "                #Comente essa linha se deseja Best Improvement\n",
    "                return lista, melhor_ate_agora\n",
    "            else:\n",
    "                # Removendo, já que não possui distância menor\n",
    "                #pass\n",
    "                lista.pop(j)\n",
    "        lista.insert(i,a)\n",
    "    return lista, melhor_ate_agora"
   ]
  },
  {
   "cell_type": "code",
   "execution_count": 11,
   "metadata": {
    "collapsed": true
   },
   "outputs": [
    {
     "name": "stdout",
     "output_type": "stream",
     "text": [
      "[(0, 12), (1, 11), (2, 10), (3, 9), (4, 8), (5, 7), (6, 6), (7, 5), (8, 4), (9, 3)] \n",
      "\n",
      "\n",
      "25.455844122715714\n",
      "\n",
      "\n",
      "i ==  0\n",
      "[(0, 12), (1, 11), (2, 10), (3, 9), (4, 8), (5, 7), (6, 6), (7, 5), (8, 4), (9, 3)]\n",
      "(0, 12) cut [(1, 11), (2, 10), (3, 9), (4, 8), (5, 7), (6, 6), (7, 5), (8, 4), (9, 3)]\n",
      "Começando o 2º for\n",
      "### [(0, 12), (1, 11), (2, 10), (3, 9), (4, 8), (5, 7), (6, 6), (7, 5), (8, 4), (9, 3)] SUM => 25.455844122715714\n",
      "### [(1, 11), (0, 12), (2, 10), (3, 9), (4, 8), (5, 7), (6, 6), (7, 5), (8, 4), (9, 3)] SUM => 25.455844122715718\n",
      "### [(1, 11), (2, 10), (0, 12), (3, 9), (4, 8), (5, 7), (6, 6), (7, 5), (8, 4), (9, 3)] SUM => 28.28427124746191\n",
      "### [(1, 11), (2, 10), (3, 9), (0, 12), (4, 8), (5, 7), (6, 6), (7, 5), (8, 4), (9, 3)] SUM => 31.112698372208094\n",
      "### [(1, 11), (2, 10), (3, 9), (4, 8), (0, 12), (5, 7), (6, 6), (7, 5), (8, 4), (9, 3)] SUM => 33.941125496954285\n",
      "### [(1, 11), (2, 10), (3, 9), (4, 8), (5, 7), (0, 12), (6, 6), (7, 5), (8, 4), (9, 3)] SUM => 36.76955262170048\n",
      "### [(1, 11), (2, 10), (3, 9), (4, 8), (5, 7), (6, 6), (0, 12), (7, 5), (8, 4), (9, 3)] SUM => 39.59797974644666\n",
      "### [(1, 11), (2, 10), (3, 9), (4, 8), (5, 7), (6, 6), (7, 5), (0, 12), (8, 4), (9, 3)] SUM => 42.42640687119285\n",
      "### [(1, 11), (2, 10), (3, 9), (4, 8), (5, 7), (6, 6), (7, 5), (8, 4), (0, 12), (9, 3)] SUM => 45.254833995939045\n",
      "### [(1, 11), (2, 10), (3, 9), (4, 8), (5, 7), (6, 6), (7, 5), (8, 4), (9, 3), (0, 12)] SUM => 25.455844122715714\n",
      "\n",
      "\n",
      "i ==  1\n",
      "[(0, 12), (1, 11), (2, 10), (3, 9), (4, 8), (5, 7), (6, 6), (7, 5), (8, 4), (9, 3)]\n",
      "(1, 11) cut [(0, 12), (2, 10), (3, 9), (4, 8), (5, 7), (6, 6), (7, 5), (8, 4), (9, 3)]\n",
      "Começando o 2º for\n",
      "### [(1, 11), (0, 12), (2, 10), (3, 9), (4, 8), (5, 7), (6, 6), (7, 5), (8, 4), (9, 3)] SUM => 25.455844122715718\n",
      "### [(0, 12), (1, 11), (2, 10), (3, 9), (4, 8), (5, 7), (6, 6), (7, 5), (8, 4), (9, 3)] SUM => 25.455844122715714\n",
      "### [(0, 12), (2, 10), (1, 11), (3, 9), (4, 8), (5, 7), (6, 6), (7, 5), (8, 4), (9, 3)] SUM => 28.284271247461906\n",
      "### [(0, 12), (2, 10), (3, 9), (1, 11), (4, 8), (5, 7), (6, 6), (7, 5), (8, 4), (9, 3)] SUM => 31.112698372208094\n",
      "### [(0, 12), (2, 10), (3, 9), (4, 8), (1, 11), (5, 7), (6, 6), (7, 5), (8, 4), (9, 3)] SUM => 33.941125496954285\n",
      "### [(0, 12), (2, 10), (3, 9), (4, 8), (5, 7), (1, 11), (6, 6), (7, 5), (8, 4), (9, 3)] SUM => 36.76955262170047\n",
      "### [(0, 12), (2, 10), (3, 9), (4, 8), (5, 7), (6, 6), (1, 11), (7, 5), (8, 4), (9, 3)] SUM => 39.59797974644667\n",
      "### [(0, 12), (2, 10), (3, 9), (4, 8), (5, 7), (6, 6), (7, 5), (1, 11), (8, 4), (9, 3)] SUM => 42.42640687119285\n",
      "### [(0, 12), (2, 10), (3, 9), (4, 8), (5, 7), (6, 6), (7, 5), (8, 4), (1, 11), (9, 3)] SUM => 45.25483399593904\n",
      "### [(0, 12), (2, 10), (3, 9), (4, 8), (5, 7), (6, 6), (7, 5), (8, 4), (9, 3), (1, 11)] SUM => 25.455844122715714\n",
      "\n",
      "\n",
      "i ==  2\n",
      "[(0, 12), (1, 11), (2, 10), (3, 9), (4, 8), (5, 7), (6, 6), (7, 5), (8, 4), (9, 3)]\n",
      "(2, 10) cut [(0, 12), (1, 11), (3, 9), (4, 8), (5, 7), (6, 6), (7, 5), (8, 4), (9, 3)]\n",
      "Começando o 2º for\n",
      "### [(2, 10), (0, 12), (1, 11), (3, 9), (4, 8), (5, 7), (6, 6), (7, 5), (8, 4), (9, 3)] SUM => 25.455844122715718\n",
      "### [(0, 12), (2, 10), (1, 11), (3, 9), (4, 8), (5, 7), (6, 6), (7, 5), (8, 4), (9, 3)] SUM => 28.284271247461906\n",
      "### [(0, 12), (1, 11), (2, 10), (3, 9), (4, 8), (5, 7), (6, 6), (7, 5), (8, 4), (9, 3)] SUM => 25.455844122715714\n",
      "### [(0, 12), (1, 11), (3, 9), (2, 10), (4, 8), (5, 7), (6, 6), (7, 5), (8, 4), (9, 3)] SUM => 28.284271247461906\n",
      "### [(0, 12), (1, 11), (3, 9), (4, 8), (2, 10), (5, 7), (6, 6), (7, 5), (8, 4), (9, 3)] SUM => 31.112698372208094\n",
      "### [(0, 12), (1, 11), (3, 9), (4, 8), (5, 7), (2, 10), (6, 6), (7, 5), (8, 4), (9, 3)] SUM => 33.941125496954285\n",
      "### [(0, 12), (1, 11), (3, 9), (4, 8), (5, 7), (6, 6), (2, 10), (7, 5), (8, 4), (9, 3)] SUM => 36.76955262170047\n",
      "### [(0, 12), (1, 11), (3, 9), (4, 8), (5, 7), (6, 6), (7, 5), (2, 10), (8, 4), (9, 3)] SUM => 39.59797974644666\n",
      "### [(0, 12), (1, 11), (3, 9), (4, 8), (5, 7), (6, 6), (7, 5), (8, 4), (2, 10), (9, 3)] SUM => 42.42640687119285\n",
      "### [(0, 12), (1, 11), (3, 9), (4, 8), (5, 7), (6, 6), (7, 5), (8, 4), (9, 3), (2, 10)] SUM => 25.455844122715718\n",
      "\n",
      "\n",
      "i ==  3\n",
      "[(0, 12), (1, 11), (2, 10), (3, 9), (4, 8), (5, 7), (6, 6), (7, 5), (8, 4), (9, 3)]\n",
      "(3, 9) cut [(0, 12), (1, 11), (2, 10), (4, 8), (5, 7), (6, 6), (7, 5), (8, 4), (9, 3)]\n",
      "Começando o 2º for\n",
      "### [(3, 9), (0, 12), (1, 11), (2, 10), (4, 8), (5, 7), (6, 6), (7, 5), (8, 4), (9, 3)] SUM => 25.45584412271571\n",
      "### [(0, 12), (3, 9), (1, 11), (2, 10), (4, 8), (5, 7), (6, 6), (7, 5), (8, 4), (9, 3)] SUM => 31.112698372208094\n",
      "### [(0, 12), (1, 11), (3, 9), (2, 10), (4, 8), (5, 7), (6, 6), (7, 5), (8, 4), (9, 3)] SUM => 28.284271247461906\n",
      "### [(0, 12), (1, 11), (2, 10), (3, 9), (4, 8), (5, 7), (6, 6), (7, 5), (8, 4), (9, 3)] SUM => 25.455844122715714\n",
      "### [(0, 12), (1, 11), (2, 10), (4, 8), (3, 9), (5, 7), (6, 6), (7, 5), (8, 4), (9, 3)] SUM => 28.284271247461902\n",
      "### [(0, 12), (1, 11), (2, 10), (4, 8), (5, 7), (3, 9), (6, 6), (7, 5), (8, 4), (9, 3)] SUM => 31.112698372208094\n",
      "### [(0, 12), (1, 11), (2, 10), (4, 8), (5, 7), (6, 6), (3, 9), (7, 5), (8, 4), (9, 3)] SUM => 33.941125496954285\n",
      "### [(0, 12), (1, 11), (2, 10), (4, 8), (5, 7), (6, 6), (7, 5), (3, 9), (8, 4), (9, 3)] SUM => 36.76955262170047\n",
      "### [(0, 12), (1, 11), (2, 10), (4, 8), (5, 7), (6, 6), (7, 5), (8, 4), (3, 9), (9, 3)] SUM => 39.59797974644667\n",
      "### [(0, 12), (1, 11), (2, 10), (4, 8), (5, 7), (6, 6), (7, 5), (8, 4), (9, 3), (3, 9)] SUM => 25.45584412271571\n",
      "\n",
      "\n",
      "i ==  4\n",
      "[(0, 12), (1, 11), (2, 10), (3, 9), (4, 8), (5, 7), (6, 6), (7, 5), (8, 4), (9, 3)]\n",
      "(4, 8) cut [(0, 12), (1, 11), (2, 10), (3, 9), (5, 7), (6, 6), (7, 5), (8, 4), (9, 3)]\n",
      "Começando o 2º for\n",
      "### [(4, 8), (0, 12), (1, 11), (2, 10), (3, 9), (5, 7), (6, 6), (7, 5), (8, 4), (9, 3)] SUM => 25.455844122715714\n",
      "### [(0, 12), (4, 8), (1, 11), (2, 10), (3, 9), (5, 7), (6, 6), (7, 5), (8, 4), (9, 3)] SUM => 33.941125496954285\n",
      "### [(0, 12), (1, 11), (4, 8), (2, 10), (3, 9), (5, 7), (6, 6), (7, 5), (8, 4), (9, 3)] SUM => 31.112698372208094\n",
      "### [(0, 12), (1, 11), (2, 10), (4, 8), (3, 9), (5, 7), (6, 6), (7, 5), (8, 4), (9, 3)] SUM => 28.284271247461902\n",
      "### [(0, 12), (1, 11), (2, 10), (3, 9), (4, 8), (5, 7), (6, 6), (7, 5), (8, 4), (9, 3)] SUM => 25.455844122715714\n",
      "### [(0, 12), (1, 11), (2, 10), (3, 9), (5, 7), (4, 8), (6, 6), (7, 5), (8, 4), (9, 3)] SUM => 28.284271247461902\n",
      "### [(0, 12), (1, 11), (2, 10), (3, 9), (5, 7), (6, 6), (4, 8), (7, 5), (8, 4), (9, 3)] SUM => 31.112698372208094\n",
      "### [(0, 12), (1, 11), (2, 10), (3, 9), (5, 7), (6, 6), (7, 5), (4, 8), (8, 4), (9, 3)] SUM => 33.941125496954285\n",
      "### [(0, 12), (1, 11), (2, 10), (3, 9), (5, 7), (6, 6), (7, 5), (8, 4), (4, 8), (9, 3)] SUM => 36.76955262170047\n",
      "### [(0, 12), (1, 11), (2, 10), (3, 9), (5, 7), (6, 6), (7, 5), (8, 4), (9, 3), (4, 8)] SUM => 25.455844122715714\n",
      "\n",
      "\n",
      "i ==  5\n",
      "[(0, 12), (1, 11), (2, 10), (3, 9), (4, 8), (5, 7), (6, 6), (7, 5), (8, 4), (9, 3)]\n",
      "(5, 7) cut [(0, 12), (1, 11), (2, 10), (3, 9), (4, 8), (6, 6), (7, 5), (8, 4), (9, 3)]\n",
      "Começando o 2º for\n",
      "### [(5, 7), (0, 12), (1, 11), (2, 10), (3, 9), (4, 8), (6, 6), (7, 5), (8, 4), (9, 3)] SUM => 25.455844122715714\n",
      "### [(0, 12), (5, 7), (1, 11), (2, 10), (3, 9), (4, 8), (6, 6), (7, 5), (8, 4), (9, 3)] SUM => 36.76955262170048\n",
      "### [(0, 12), (1, 11), (5, 7), (2, 10), (3, 9), (4, 8), (6, 6), (7, 5), (8, 4), (9, 3)] SUM => 33.941125496954285\n",
      "### [(0, 12), (1, 11), (2, 10), (5, 7), (3, 9), (4, 8), (6, 6), (7, 5), (8, 4), (9, 3)] SUM => 31.112698372208094\n",
      "### [(0, 12), (1, 11), (2, 10), (3, 9), (5, 7), (4, 8), (6, 6), (7, 5), (8, 4), (9, 3)] SUM => 28.284271247461902\n",
      "### [(0, 12), (1, 11), (2, 10), (3, 9), (4, 8), (5, 7), (6, 6), (7, 5), (8, 4), (9, 3)] SUM => 25.455844122715714\n",
      "### [(0, 12), (1, 11), (2, 10), (3, 9), (4, 8), (6, 6), (5, 7), (7, 5), (8, 4), (9, 3)] SUM => 28.284271247461902\n",
      "### [(0, 12), (1, 11), (2, 10), (3, 9), (4, 8), (6, 6), (7, 5), (5, 7), (8, 4), (9, 3)] SUM => 31.112698372208094\n",
      "### [(0, 12), (1, 11), (2, 10), (3, 9), (4, 8), (6, 6), (7, 5), (8, 4), (5, 7), (9, 3)] SUM => 33.941125496954285\n",
      "### [(0, 12), (1, 11), (2, 10), (3, 9), (4, 8), (6, 6), (7, 5), (8, 4), (9, 3), (5, 7)] SUM => 25.455844122715714\n",
      "\n",
      "\n",
      "i ==  6\n",
      "[(0, 12), (1, 11), (2, 10), (3, 9), (4, 8), (5, 7), (6, 6), (7, 5), (8, 4), (9, 3)]\n",
      "(6, 6) cut [(0, 12), (1, 11), (2, 10), (3, 9), (4, 8), (5, 7), (7, 5), (8, 4), (9, 3)]\n",
      "Começando o 2º for\n",
      "### [(6, 6), (0, 12), (1, 11), (2, 10), (3, 9), (4, 8), (5, 7), (7, 5), (8, 4), (9, 3)] SUM => 25.455844122715714\n",
      "### [(0, 12), (6, 6), (1, 11), (2, 10), (3, 9), (4, 8), (5, 7), (7, 5), (8, 4), (9, 3)] SUM => 39.59797974644667\n",
      "### [(0, 12), (1, 11), (6, 6), (2, 10), (3, 9), (4, 8), (5, 7), (7, 5), (8, 4), (9, 3)] SUM => 36.76955262170048\n",
      "### [(0, 12), (1, 11), (2, 10), (6, 6), (3, 9), (4, 8), (5, 7), (7, 5), (8, 4), (9, 3)] SUM => 33.941125496954285\n",
      "### [(0, 12), (1, 11), (2, 10), (3, 9), (6, 6), (4, 8), (5, 7), (7, 5), (8, 4), (9, 3)] SUM => 31.112698372208094\n",
      "### [(0, 12), (1, 11), (2, 10), (3, 9), (4, 8), (6, 6), (5, 7), (7, 5), (8, 4), (9, 3)] SUM => 28.284271247461902\n",
      "### [(0, 12), (1, 11), (2, 10), (3, 9), (4, 8), (5, 7), (6, 6), (7, 5), (8, 4), (9, 3)] SUM => 25.455844122715714\n",
      "### [(0, 12), (1, 11), (2, 10), (3, 9), (4, 8), (5, 7), (7, 5), (6, 6), (8, 4), (9, 3)] SUM => 28.284271247461902\n",
      "### [(0, 12), (1, 11), (2, 10), (3, 9), (4, 8), (5, 7), (7, 5), (8, 4), (6, 6), (9, 3)] SUM => 31.11269837220809\n",
      "### [(0, 12), (1, 11), (2, 10), (3, 9), (4, 8), (5, 7), (7, 5), (8, 4), (9, 3), (6, 6)] SUM => 25.45584412271571\n",
      "\n",
      "\n",
      "i ==  7\n",
      "[(0, 12), (1, 11), (2, 10), (3, 9), (4, 8), (5, 7), (6, 6), (7, 5), (8, 4), (9, 3)]\n",
      "(7, 5) cut [(0, 12), (1, 11), (2, 10), (3, 9), (4, 8), (5, 7), (6, 6), (8, 4), (9, 3)]\n",
      "Começando o 2º for\n",
      "### [(7, 5), (0, 12), (1, 11), (2, 10), (3, 9), (4, 8), (5, 7), (6, 6), (8, 4), (9, 3)] SUM => 25.455844122715718\n",
      "### [(0, 12), (7, 5), (1, 11), (2, 10), (3, 9), (4, 8), (5, 7), (6, 6), (8, 4), (9, 3)] SUM => 42.42640687119285\n",
      "### [(0, 12), (1, 11), (7, 5), (2, 10), (3, 9), (4, 8), (5, 7), (6, 6), (8, 4), (9, 3)] SUM => 39.59797974644667\n",
      "### [(0, 12), (1, 11), (2, 10), (7, 5), (3, 9), (4, 8), (5, 7), (6, 6), (8, 4), (9, 3)] SUM => 36.76955262170048\n",
      "### [(0, 12), (1, 11), (2, 10), (3, 9), (7, 5), (4, 8), (5, 7), (6, 6), (8, 4), (9, 3)] SUM => 33.941125496954285\n",
      "### [(0, 12), (1, 11), (2, 10), (3, 9), (4, 8), (7, 5), (5, 7), (6, 6), (8, 4), (9, 3)] SUM => 31.112698372208094\n",
      "### [(0, 12), (1, 11), (2, 10), (3, 9), (4, 8), (5, 7), (7, 5), (6, 6), (8, 4), (9, 3)] SUM => 28.284271247461902\n",
      "### [(0, 12), (1, 11), (2, 10), (3, 9), (4, 8), (5, 7), (6, 6), (7, 5), (8, 4), (9, 3)] SUM => 25.455844122715714\n",
      "### [(0, 12), (1, 11), (2, 10), (3, 9), (4, 8), (5, 7), (6, 6), (8, 4), (7, 5), (9, 3)] SUM => 28.284271247461902\n",
      "### [(0, 12), (1, 11), (2, 10), (3, 9), (4, 8), (5, 7), (6, 6), (8, 4), (9, 3), (7, 5)] SUM => 25.45584412271571\n",
      "\n",
      "\n",
      "i ==  8\n",
      "[(0, 12), (1, 11), (2, 10), (3, 9), (4, 8), (5, 7), (6, 6), (7, 5), (8, 4), (9, 3)]\n",
      "(8, 4) cut [(0, 12), (1, 11), (2, 10), (3, 9), (4, 8), (5, 7), (6, 6), (7, 5), (9, 3)]\n",
      "Começando o 2º for\n",
      "### [(8, 4), (0, 12), (1, 11), (2, 10), (3, 9), (4, 8), (5, 7), (6, 6), (7, 5), (9, 3)] SUM => 25.455844122715718\n",
      "### [(0, 12), (8, 4), (1, 11), (2, 10), (3, 9), (4, 8), (5, 7), (6, 6), (7, 5), (9, 3)] SUM => 45.25483399593905\n",
      "### [(0, 12), (1, 11), (8, 4), (2, 10), (3, 9), (4, 8), (5, 7), (6, 6), (7, 5), (9, 3)] SUM => 42.42640687119285\n",
      "### [(0, 12), (1, 11), (2, 10), (8, 4), (3, 9), (4, 8), (5, 7), (6, 6), (7, 5), (9, 3)] SUM => 39.59797974644667\n",
      "### [(0, 12), (1, 11), (2, 10), (3, 9), (8, 4), (4, 8), (5, 7), (6, 6), (7, 5), (9, 3)] SUM => 36.76955262170048\n",
      "### [(0, 12), (1, 11), (2, 10), (3, 9), (4, 8), (8, 4), (5, 7), (6, 6), (7, 5), (9, 3)] SUM => 33.941125496954285\n",
      "### [(0, 12), (1, 11), (2, 10), (3, 9), (4, 8), (5, 7), (8, 4), (6, 6), (7, 5), (9, 3)] SUM => 31.11269837220809\n",
      "### [(0, 12), (1, 11), (2, 10), (3, 9), (4, 8), (5, 7), (6, 6), (8, 4), (7, 5), (9, 3)] SUM => 28.284271247461902\n",
      "### [(0, 12), (1, 11), (2, 10), (3, 9), (4, 8), (5, 7), (6, 6), (7, 5), (8, 4), (9, 3)] SUM => 25.455844122715714\n",
      "### [(0, 12), (1, 11), (2, 10), (3, 9), (4, 8), (5, 7), (6, 6), (7, 5), (9, 3), (8, 4)] SUM => 25.455844122715714\n",
      "\n",
      "\n",
      "i ==  9\n",
      "[(0, 12), (1, 11), (2, 10), (3, 9), (4, 8), (5, 7), (6, 6), (7, 5), (8, 4), (9, 3)]\n",
      "(9, 3) cut [(0, 12), (1, 11), (2, 10), (3, 9), (4, 8), (5, 7), (6, 6), (7, 5), (8, 4)]\n",
      "Começando o 2º for\n",
      "### [(9, 3), (0, 12), (1, 11), (2, 10), (3, 9), (4, 8), (5, 7), (6, 6), (7, 5), (8, 4)] SUM => 25.455844122715718\n",
      "### [(0, 12), (9, 3), (1, 11), (2, 10), (3, 9), (4, 8), (5, 7), (6, 6), (7, 5), (8, 4)] SUM => 45.254833995939045\n",
      "### [(0, 12), (1, 11), (9, 3), (2, 10), (3, 9), (4, 8), (5, 7), (6, 6), (7, 5), (8, 4)] SUM => 42.42640687119286\n",
      "### [(0, 12), (1, 11), (2, 10), (9, 3), (3, 9), (4, 8), (5, 7), (6, 6), (7, 5), (8, 4)] SUM => 39.59797974644667\n",
      "### [(0, 12), (1, 11), (2, 10), (3, 9), (9, 3), (4, 8), (5, 7), (6, 6), (7, 5), (8, 4)] SUM => 36.76955262170048\n",
      "### [(0, 12), (1, 11), (2, 10), (3, 9), (4, 8), (9, 3), (5, 7), (6, 6), (7, 5), (8, 4)] SUM => 33.941125496954285\n",
      "### [(0, 12), (1, 11), (2, 10), (3, 9), (4, 8), (5, 7), (9, 3), (6, 6), (7, 5), (8, 4)] SUM => 31.112698372208094\n",
      "### [(0, 12), (1, 11), (2, 10), (3, 9), (4, 8), (5, 7), (6, 6), (9, 3), (7, 5), (8, 4)] SUM => 28.284271247461902\n",
      "### [(0, 12), (1, 11), (2, 10), (3, 9), (4, 8), (5, 7), (6, 6), (7, 5), (9, 3), (8, 4)] SUM => 25.455844122715714\n",
      "### [(0, 12), (1, 11), (2, 10), (3, 9), (4, 8), (5, 7), (6, 6), (7, 5), (8, 4), (9, 3)] SUM => 25.455844122715714\n"
     ]
    }
   ],
   "source": [
    "#```python\n",
    "#lista = list(pontos)\n",
    "\n",
    "lista = [(i, 12-i) for i in range(10)]\n",
    "\n",
    "print(lista, \"\\n\\n\")\n",
    "melhor_ate_agora = distancia_percurso(lista)\n",
    "print(melhor_ate_agora)\n",
    "\n",
    "for i in range(len(lista)):\n",
    "    print(\"\\n\\ni == \", i)\n",
    "    print(lista)\n",
    "    a = lista.pop(i)\n",
    "    print(a, \"cut\", lista)\n",
    "    print(\"Começando o 2º for\")\n",
    "    for j in range(len(lista)+1):\n",
    "        lista.insert(j,a)\n",
    "        novo_melhor = distancia_percurso(lista)\n",
    "        print(\"#\"*3, lista,\"SUM =>\", novo_melhor)\n",
    "        if novo_melhor < melhor_ate_agora:\n",
    "            novo_melhor = melhor_ate_agora\n",
    "        lista.pop(j)\n",
    "    lista.insert(i,a)\n",
    "#```"
   ]
  },
  {
   "cell_type": "markdown",
   "metadata": {},
   "source": [
    "# Processo de Criação"
   ]
  },
  {
   "cell_type": "code",
   "execution_count": 12,
   "metadata": {},
   "outputs": [
    {
     "name": "stdout",
     "output_type": "stream",
     "text": [
      "On branch master\r\n",
      "Your branch is up to date with 'origin/master'.\r\n",
      "\r\n",
      "Changes not staged for commit:\r\n",
      "  (use \"git add <file>...\" to update what will be committed)\r\n",
      "  (use \"git checkout -- <file>...\" to discard changes in working directory)\r\n",
      "\r\n",
      "\t\u001b[31mmodified:   \"Segunda Entrega Corre\\303\\247\\303\\243o.ipynb\"\u001b[m\r\n",
      "\r\n",
      "Untracked files:\r\n",
      "  (use \"git add <file>...\" to include in what will be committed)\r\n",
      "\r\n",
      "\t\u001b[31m.ipynb_checkpoints/\u001b[m\r\n",
      "\r\n",
      "no changes added to commit (use \"git add\" and/or \"git commit -a\")\r\n"
     ]
    }
   ],
   "source": [
    "!git "
   ]
  },
  {
   "cell_type": "code",
   "execution_count": 15,
   "metadata": {
    "scrolled": false
   },
   "outputs": [
    {
     "name": "stdout",
     "output_type": "stream",
     "text": [
      "Len points 98\r",
      "Len points 97\r",
      "Len points 96\r",
      "Len points 95\r",
      "Len points 94\r",
      "Len points 93\r",
      "Len points 92\r",
      "Len points 91\r",
      "Len points 90\r",
      "Len points 89\r",
      "Len points 88\r",
      "Len points 87\r",
      "Len points 86\r",
      "Len points 85\r",
      "Len points 84\r",
      "Len points 83\r",
      "Len points 82\r",
      "Len points 81\r",
      "Len points 80\r",
      "Len points 79\r",
      "Len points 78\r",
      "Len points 77\r",
      "Len points 76\r",
      "Len points 75\r",
      "Len points 74\r",
      "Len points 73\r",
      "Len points 72\r",
      "Len points 71\r",
      "Len points 70\r",
      "Len points 69\r",
      "Len points 68\r",
      "Len points 67\r",
      "Len points 66\r",
      "Len points 65\r",
      "Len points 64\r",
      "Len points 63\r",
      "Len points 62\r",
      "Len points 61\r",
      "Len points 60\r",
      "Len points 59\r",
      "Len points 58\r",
      "Len points 57\r",
      "Len points 56\r",
      "Len points 55\r",
      "Len points 54\r",
      "Len points 53\r",
      "Len points 52\r",
      "Len points 51\r",
      "Len points 50\r",
      "Len points 49\r",
      "Len points 48\r",
      "Len points 47\r",
      "Len points 46\r",
      "Len points 45\r",
      "Len points 44\r",
      "Len points 43\r",
      "Len points 42\r",
      "Len points 41\r",
      "Len points 40\r",
      "Len points 39\r",
      "Len points 38\r",
      "Len points 37\r",
      "Len points 36\r",
      "Len points 35\r",
      "Len points 34\r",
      "Len points 33\r",
      "Len points 32\r",
      "Len points 31\r",
      "Len points 30\r",
      "Len points 29\r",
      "Len points 28\r",
      "Len points 27\r",
      "Len points 26\r",
      "Len points 25\r",
      "Len points 24\r",
      "Len points 23\r",
      "Len points 22\r",
      "Len points 21\r",
      "Len points 20\r",
      "Len points 19\r",
      "Len points 18\r",
      "Len points 17\r",
      "Len points 16\r",
      "Len points 15\r",
      "Len points 14\r",
      "Len points 13\r",
      "Len points 12\r",
      "Len points 11\r",
      "Len points 10\r",
      "Len points 9\r",
      "Len points 8\r",
      "Len points 7\r",
      "Len points 6\r",
      "Len points 5\r",
      "Len points 4\r",
      "Len points 3\r",
      "Len points 2\r",
      "Len points 1\r",
      "Len points 0\r",
      "Custo: 5337905.746478797\n"
     ]
    }
   ],
   "source": [
    "vmp_array, vmp_dist = vizinhos_mais_proximos(pontos)\n",
    "print(\"Custo:\", vmp_dist)"
   ]
  },
  {
   "cell_type": "markdown",
   "metadata": {},
   "source": [
    "Array criado, nome de `vmp_array`, e custo de `vmp_dist`"
   ]
  },
  {
   "cell_type": "markdown",
   "metadata": {},
   "source": [
    "## Benckmark com o Insertion"
   ]
  },
  {
   "cell_type": "code",
   "execution_count": 16,
   "metadata": {},
   "outputs": [
    {
     "name": "stdout",
     "output_type": "stream",
     "text": [
      "Distancia Da entrada:  5337905.746478797\n"
     ]
    },
    {
     "ename": "NameError",
     "evalue": "name 'novo_melhor' is not defined",
     "output_type": "error",
     "traceback": [
      "\u001b[0;31m---------------------------------------------------------------------------\u001b[0m",
      "\u001b[0;31mNameError\u001b[0m                                 Traceback (most recent call last)",
      "\u001b[0;32m<timed exec>\u001b[0m in \u001b[0;36m<module>\u001b[0;34m\u001b[0m\n",
      "\u001b[0;32m<ipython-input-14-196bde4579ec>\u001b[0m in \u001b[0;36minsertion\u001b[0;34m(array_lista)\u001b[0m\n\u001b[1;32m     13\u001b[0m             \u001b[0mlista\u001b[0m\u001b[0;34m.\u001b[0m\u001b[0minsert\u001b[0m\u001b[0;34m(\u001b[0m\u001b[0mj\u001b[0m\u001b[0;34m,\u001b[0m \u001b[0ma\u001b[0m\u001b[0;34m)\u001b[0m\u001b[0;34m\u001b[0m\u001b[0m\n\u001b[1;32m     14\u001b[0m             \u001b[0mnova_distancia\u001b[0m \u001b[0;34m=\u001b[0m \u001b[0mdistancia_percurso\u001b[0m\u001b[0;34m(\u001b[0m\u001b[0mlista\u001b[0m\u001b[0;34m)\u001b[0m\u001b[0;34m\u001b[0m\u001b[0m\n\u001b[0;32m---> 15\u001b[0;31m             \u001b[0mprint\u001b[0m\u001b[0;34m(\u001b[0m\u001b[0;34m\"#\"\u001b[0m\u001b[0;34m*\u001b[0m\u001b[0;36m3\u001b[0m\u001b[0;34m,\u001b[0m \u001b[0mlista\u001b[0m\u001b[0;34m,\u001b[0m\u001b[0;34m\"SUM =>\"\u001b[0m\u001b[0;34m,\u001b[0m \u001b[0mnovo_melhor\u001b[0m\u001b[0;34m)\u001b[0m\u001b[0;34m\u001b[0m\u001b[0m\n\u001b[0m\u001b[1;32m     16\u001b[0m             \u001b[0;31m#print(\"len\", len(lista))\u001b[0m\u001b[0;34m\u001b[0m\u001b[0;34m\u001b[0m\u001b[0m\n\u001b[1;32m     17\u001b[0m             \u001b[0;32mif\u001b[0m \u001b[0mnova_distancia\u001b[0m \u001b[0;34m<\u001b[0m \u001b[0mmelhor_ate_agora\u001b[0m\u001b[0;34m:\u001b[0m\u001b[0;34m\u001b[0m\u001b[0m\n",
      "\u001b[0;31mNameError\u001b[0m: name 'novo_melhor' is not defined"
     ]
    },
    {
     "ename": "NameError",
     "evalue": "name 'insertion_dist' is not defined",
     "output_type": "error",
     "traceback": [
      "\u001b[0;31m---------------------------------------------------------------------------\u001b[0m",
      "\u001b[0;31mNameError\u001b[0m                                 Traceback (most recent call last)",
      "\u001b[0;32m<ipython-input-16-2b9724f69c50>\u001b[0m in \u001b[0;36m<module>\u001b[0;34m\u001b[0m\n\u001b[1;32m      1\u001b[0m \u001b[0mget_ipython\u001b[0m\u001b[0;34m(\u001b[0m\u001b[0;34m)\u001b[0m\u001b[0;34m.\u001b[0m\u001b[0mrun_line_magic\u001b[0m\u001b[0;34m(\u001b[0m\u001b[0;34m'time'\u001b[0m\u001b[0;34m,\u001b[0m \u001b[0;34m'insertion_array , insertion_dist = insertion(vmp_array)'\u001b[0m\u001b[0;34m)\u001b[0m\u001b[0;34m\u001b[0m\u001b[0m\n\u001b[0;32m----> 2\u001b[0;31m \u001b[0minsertion_dist\u001b[0m\u001b[0;34m\u001b[0m\u001b[0m\n\u001b[0m",
      "\u001b[0;31mNameError\u001b[0m: name 'insertion_dist' is not defined"
     ]
    }
   ],
   "source": [
    "%time insertion_array , insertion_dist = insertion(vmp_array)\n",
    "insertion_dist"
   ]
  },
  {
   "cell_type": "markdown",
   "metadata": {},
   "source": [
    "## Benckmark com o 2-OPT"
   ]
  },
  {
   "cell_type": "code",
   "execution_count": 17,
   "metadata": {
    "scrolled": true
   },
   "outputs": [
    {
     "name": "stdout",
     "output_type": "stream",
     "text": [
      "Dist inicial: 5337905.746478797\n",
      "CPU times: user 31.2 ms, sys: 1.54 ms, total: 32.7 ms\n",
      "Wall time: 31.8 ms\n"
     ]
    },
    {
     "data": {
      "text/plain": [
       "5301072.002634718"
      ]
     },
     "execution_count": 17,
     "metadata": {},
     "output_type": "execute_result"
    }
   ],
   "source": [
    "%time two_opt_array, two_opt_dist = two_opt(vmp_array)\n",
    "two_opt_dist"
   ]
  },
  {
   "cell_type": "markdown",
   "metadata": {},
   "source": [
    "# VND (Variable Neighbourhood Descent)"
   ]
  },
  {
   "cell_type": "code",
   "execution_count": 18,
   "metadata": {},
   "outputs": [],
   "source": [
    "def VND(array_lista, n_iteracoes):\n",
    "    lista = list(array_lista)\n",
    "    \n",
    "    \n",
    "    melhor_ate_agora = distancia_percurso(lista)\n",
    "    print(\"Inicial:\", melhor_ate_agora)\n",
    "    while n_iteracoes >= 0:\n",
    "        print(\"\\n##\", n_iteracoes ,\"##\\n\")\n",
    "        \n",
    "        # Rodar insertion, caso for bom, rodo de novo\n",
    "        insertion_array, insertion_dist= insertion(lista)\n",
    "        \n",
    "        print(\"Insertion:\", insertion_dist, len(insertion_array))\n",
    "        # Caso o Insertion for bom, volte pro Insertion\n",
    "        if insertion_dist < melhor_ate_agora:\n",
    "            melhor_ate_agora = insertion_dist\n",
    "            lista = insertion_array\n",
    "            n_iteracoes = n_iteracoes - 1\n",
    "            continue\n",
    "        \n",
    "        \n",
    "        # Se Insertion for ruim, rode o 2-OPT \n",
    "        lista_two_opt, two_opt_dist = two_opt(lista)\n",
    "        print(\"2-OPT: \", two_opt_dist, len(two_opt_array))\n",
    "        if two_opt_dist < melhor_ate_agora:\n",
    "            melhor_ate_agora = two_opt_dist\n",
    "            lista = lista_two_opt\n",
    "            n_iteracoes = n_iteracoes - 1\n",
    "            continue\n",
    "        \n",
    "        # Caso o Insertion e o 2-OPT for ruim, pare\n",
    "        print(\"Insertion e 2-OPT sem sucesso\")\n",
    "        break\n",
    "    return lista"
   ]
  },
  {
   "cell_type": "code",
   "execution_count": 19,
   "metadata": {
    "scrolled": true
   },
   "outputs": [
    {
     "name": "stdout",
     "output_type": "stream",
     "text": [
      "Inicial: 5337905.746478797\n",
      "\n",
      "## 100 ##\n",
      "\n",
      "Distancia Da entrada:  5337905.746478797\n"
     ]
    },
    {
     "ename": "NameError",
     "evalue": "name 'novo_melhor' is not defined",
     "output_type": "error",
     "traceback": [
      "\u001b[0;31m---------------------------------------------------------------------------\u001b[0m",
      "\u001b[0;31mNameError\u001b[0m                                 Traceback (most recent call last)",
      "\u001b[0;32m<ipython-input-19-e38cdd706771>\u001b[0m in \u001b[0;36m<module>\u001b[0;34m\u001b[0m\n\u001b[0;32m----> 1\u001b[0;31m \u001b[0mresultado_vnd\u001b[0m \u001b[0;34m=\u001b[0m \u001b[0mVND\u001b[0m\u001b[0;34m(\u001b[0m\u001b[0mvmp_array\u001b[0m\u001b[0;34m,\u001b[0m \u001b[0mn_iteracoes\u001b[0m\u001b[0;34m=\u001b[0m\u001b[0;36m100\u001b[0m\u001b[0;34m)\u001b[0m\u001b[0;34m\u001b[0m\u001b[0m\n\u001b[0m",
      "\u001b[0;32m<ipython-input-18-7d0d25bc15ac>\u001b[0m in \u001b[0;36mVND\u001b[0;34m(array_lista, n_iteracoes)\u001b[0m\n\u001b[1;32m      9\u001b[0m \u001b[0;34m\u001b[0m\u001b[0m\n\u001b[1;32m     10\u001b[0m         \u001b[0;31m# Rodar insertion, caso for bom, rodo de novo\u001b[0m\u001b[0;34m\u001b[0m\u001b[0;34m\u001b[0m\u001b[0m\n\u001b[0;32m---> 11\u001b[0;31m         \u001b[0minsertion_array\u001b[0m\u001b[0;34m,\u001b[0m \u001b[0minsertion_dist\u001b[0m\u001b[0;34m=\u001b[0m \u001b[0minsertion\u001b[0m\u001b[0;34m(\u001b[0m\u001b[0mlista\u001b[0m\u001b[0;34m)\u001b[0m\u001b[0;34m\u001b[0m\u001b[0m\n\u001b[0m\u001b[1;32m     12\u001b[0m \u001b[0;34m\u001b[0m\u001b[0m\n\u001b[1;32m     13\u001b[0m         \u001b[0mprint\u001b[0m\u001b[0;34m(\u001b[0m\u001b[0;34m\"Insertion:\"\u001b[0m\u001b[0;34m,\u001b[0m \u001b[0minsertion_dist\u001b[0m\u001b[0;34m,\u001b[0m \u001b[0mlen\u001b[0m\u001b[0;34m(\u001b[0m\u001b[0minsertion_array\u001b[0m\u001b[0;34m)\u001b[0m\u001b[0;34m)\u001b[0m\u001b[0;34m\u001b[0m\u001b[0m\n",
      "\u001b[0;32m<ipython-input-14-196bde4579ec>\u001b[0m in \u001b[0;36minsertion\u001b[0;34m(array_lista)\u001b[0m\n\u001b[1;32m     13\u001b[0m             \u001b[0mlista\u001b[0m\u001b[0;34m.\u001b[0m\u001b[0minsert\u001b[0m\u001b[0;34m(\u001b[0m\u001b[0mj\u001b[0m\u001b[0;34m,\u001b[0m \u001b[0ma\u001b[0m\u001b[0;34m)\u001b[0m\u001b[0;34m\u001b[0m\u001b[0m\n\u001b[1;32m     14\u001b[0m             \u001b[0mnova_distancia\u001b[0m \u001b[0;34m=\u001b[0m \u001b[0mdistancia_percurso\u001b[0m\u001b[0;34m(\u001b[0m\u001b[0mlista\u001b[0m\u001b[0;34m)\u001b[0m\u001b[0;34m\u001b[0m\u001b[0m\n\u001b[0;32m---> 15\u001b[0;31m             \u001b[0mprint\u001b[0m\u001b[0;34m(\u001b[0m\u001b[0;34m\"#\"\u001b[0m\u001b[0;34m*\u001b[0m\u001b[0;36m3\u001b[0m\u001b[0;34m,\u001b[0m \u001b[0mlista\u001b[0m\u001b[0;34m,\u001b[0m\u001b[0;34m\"SUM =>\"\u001b[0m\u001b[0;34m,\u001b[0m \u001b[0mnovo_melhor\u001b[0m\u001b[0;34m)\u001b[0m\u001b[0;34m\u001b[0m\u001b[0m\n\u001b[0m\u001b[1;32m     16\u001b[0m             \u001b[0;31m#print(\"len\", len(lista))\u001b[0m\u001b[0;34m\u001b[0m\u001b[0;34m\u001b[0m\u001b[0m\n\u001b[1;32m     17\u001b[0m             \u001b[0;32mif\u001b[0m \u001b[0mnova_distancia\u001b[0m \u001b[0;34m<\u001b[0m \u001b[0mmelhor_ate_agora\u001b[0m\u001b[0;34m:\u001b[0m\u001b[0;34m\u001b[0m\u001b[0m\n",
      "\u001b[0;31mNameError\u001b[0m: name 'novo_melhor' is not defined"
     ]
    }
   ],
   "source": [
    "resultado_vnd = VND(vmp_array, n_iteracoes=100)"
   ]
  },
  {
   "cell_type": "markdown",
   "metadata": {},
   "source": [
    "# Gráficos"
   ]
  },
  {
   "cell_type": "markdown",
   "metadata": {},
   "source": [
    "## Construção original"
   ]
  },
  {
   "cell_type": "code",
   "execution_count": null,
   "metadata": {},
   "outputs": [],
   "source": [
    "vmp_array_x = []\n",
    "vmp_array_y = []\n",
    "for i in vmp_array:\n",
    "    vmp_array_x.append(i[0])\n",
    "    vmp_array_y.append(i[1])"
   ]
  },
  {
   "cell_type": "markdown",
   "metadata": {},
   "source": [
    "## Resultado do VND"
   ]
  },
  {
   "cell_type": "code",
   "execution_count": null,
   "metadata": {},
   "outputs": [],
   "source": [
    "resultado_vnd_x = []\n",
    "resultado_vnd_y = []\n",
    "for i in resultado_vnd:\n",
    "    resultado_vnd_x.append(i[0])\n",
    "    resultado_vnd_y.append(i[1])"
   ]
  },
  {
   "cell_type": "code",
   "execution_count": null,
   "metadata": {},
   "outputs": [],
   "source": [
    "#plt.rcParams['figure.figsize'] = [17, 8]\n",
    "plt.plot(resultado_vnd_x,resultado_vnd_y ,'r--', label=str(distancia_percurso(resultado_vnd)))\n",
    "plt.plot(vmp_array_x,vmp_array_y ,'ob:', label=str(vmp_dist))\n",
    "plt.legend()\n",
    "plt.show()"
   ]
  },
  {
   "cell_type": "markdown",
   "metadata": {},
   "source": [
    "# Aplicando GRASP"
   ]
  },
  {
   "cell_type": "markdown",
   "metadata": {},
   "source": [
    "## construcao_solucao(alfa)\n",
    "\n",
    "### lista_de_candidatos(LC)\n",
    "\n",
    "Lista de candidatos criada aleatóriamente\n",
    "\n",
    "### Lista restrita de candidatos(LRC)\n",
    "\n",
    "Criada através da restrição setada por alfa [0,1)\n",
    "\n",
    "O tamanho de LCR é determinado por:\n",
    "\n",
    "Cardinalidade LCR = $\\alpha$ * Cardinalidade LC\n",
    "\n"
   ]
  },
  {
   "cell_type": "code",
   "execution_count": null,
   "metadata": {},
   "outputs": [],
   "source": [
    "def GRASP(N_iteracoes, alfa):\n",
    "    for i in range(N_iteracoes):\n",
    "        solucao = construcao_solucao(alfa)\n",
    "        solucao = busca_local(solution)\n",
    "        memoriza_melhor_solucao_encontrada(Solution)\n",
    "    return melhor_solucao"
   ]
  },
  {
   "cell_type": "code",
   "execution_count": null,
   "metadata": {},
   "outputs": [],
   "source": [
    "def construcao_solucao_ALTAMENTE_ALEATORIA(alfa):\n",
    "    import random\n",
    "    random.seed(42)\n",
    "    solucao = list(pontos)\n",
    "    random.shuffle(solucao)\n",
    "    print(solucao)\n",
    "    print(solucao[0], pontos[0])\n",
    "    print(solucao[5], pontos[5])\n",
    "    print(solucao[12], pontos[12])"
   ]
  },
  {
   "cell_type": "code",
   "execution_count": null,
   "metadata": {},
   "outputs": [],
   "source": [
    "def VIZINHOS_MAIS_PROXIMOS(array_points):\n",
    "    \n",
    "    points = list(array_points)\n",
    "    \n",
    "    if len(points) == 0:\n",
    "        return []\n",
    "    \n",
    "    # Escolhe o vértice inicial\n",
    "    current = points[0]\n",
    "    # Armazena em um array, que terá o caminho criado pelo nnpoints\n",
    "    nnpoints = [current]\n",
    "    # Remove do conjuto total\n",
    "    points.remove(current)\n",
    "    # Repete até que o conjunto inicial acabe\n",
    "    while len(points) > 0:\n",
    "        next = points[0]\n",
    "        # Escolhe um vértice u mais próximo de um dos extremos de C\n",
    "        for point in points:\n",
    "            if dist(current, point) < dist(current, next):\n",
    "                next = point\n",
    "        # Acrescenta o vértice no array\n",
    "        nnpoints.append(next)\n",
    "        # Remove do conjunto\n",
    "        points.remove(next)\n",
    "        # considera que o novo nó a ser utilizado será o do final\n",
    "        current = next\n",
    "        # Numeros faltantes de pontos\n",
    "        print(\"Len points\", len(points), end=\"\\r\")\n",
    "    return nnpoints, distancia_percurso(nnpoints)"
   ]
  },
  {
   "cell_type": "code",
   "execution_count": null,
   "metadata": {},
   "outputs": [],
   "source": []
  },
  {
   "cell_type": "code",
   "execution_count": null,
   "metadata": {},
   "outputs": [],
   "source": [
    "construcao_solucao(1)"
   ]
  },
  {
   "cell_type": "code",
   "execution_count": null,
   "metadata": {},
   "outputs": [],
   "source": []
  }
 ],
 "metadata": {
  "kernelspec": {
   "display_name": "Python 3",
   "language": "python",
   "name": "python3"
  },
  "language_info": {
   "codemirror_mode": {
    "name": "ipython",
    "version": 3
   },
   "file_extension": ".py",
   "mimetype": "text/x-python",
   "name": "python",
   "nbconvert_exporter": "python",
   "pygments_lexer": "ipython3",
   "version": "3.6.6"
  }
 },
 "nbformat": 4,
 "nbformat_minor": 2
}
